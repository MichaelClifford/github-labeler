{
 "cells": [
  {
   "cell_type": "markdown",
   "id": "52527d86",
   "metadata": {},
   "source": [
    "This is an expiremental notebook where you can specify a dataframe path and see how fastText performs on the dataset.\n",
    "\n",
    "The dataset will remove issues made by detected bots, and additional bots can be added as well. \n",
    "\n",
    "Each label is predicted as a fastText binary classification task. Negative samples are evenly distributed amongst other labels.\n",
    "\n",
    "The output will be a dataframe with the precision, accuracy, and recall for each label, computed using k-fold cross validation."
   ]
  },
  {
   "cell_type": "code",
   "execution_count": 21,
   "id": "81870a78",
   "metadata": {
    "ExecuteTime": {
     "end_time": "2021-06-22T20:35:48.707511Z",
     "start_time": "2021-06-22T20:35:40.700556Z"
    }
   },
   "outputs": [],
   "source": [
    "import pandas as pd\n",
    "import numpy as np\n",
    "from skift import FirstColFtClassifier\n",
    "import model_validation\n",
    "import itertools\n",
    "import collections\n",
    "import os\n",
    "from tqdm.notebook import tqdm\n",
    "import seaborn as sns\n",
    "import matplotlib.pyplot as plt\n",
    "from sklearn.model_selection import KFold"
   ]
  },
  {
   "cell_type": "code",
   "execution_count": 2,
   "id": "0370ed69",
   "metadata": {
    "ExecuteTime": {
     "end_time": "2021-06-22T20:03:36.750135Z",
     "start_time": "2021-06-22T20:03:19.017994Z"
    }
   },
   "outputs": [],
   "source": [
    "# repo data is saved as {org_name}-_-{repo_name}\n",
    "# orginization data is saved as {org_name}\n",
    "\n",
    "SAVENAME = 'thoth-station'\n",
    "\n",
    "issues_df = pd.read_csv(os.path.join('../data', SAVENAME + '-issues.csv'))\n",
    "labels_df = pd.read_csv(os.path.join('../data', SAVENAME + '-labels.csv'))"
   ]
  },
  {
   "cell_type": "code",
   "execution_count": 3,
   "id": "2ccc0109",
   "metadata": {
    "ExecuteTime": {
     "end_time": "2021-06-22T20:14:09.451072Z",
     "start_time": "2021-06-22T20:14:09.436973Z"
    }
   },
   "outputs": [
    {
     "data": {
      "text/html": [
       "<div>\n",
       "<style scoped>\n",
       "    .dataframe tbody tr th:only-of-type {\n",
       "        vertical-align: middle;\n",
       "    }\n",
       "\n",
       "    .dataframe tbody tr th {\n",
       "        vertical-align: top;\n",
       "    }\n",
       "\n",
       "    .dataframe thead th {\n",
       "        text-align: right;\n",
       "    }\n",
       "</style>\n",
       "<table border=\"1\" class=\"dataframe\">\n",
       "  <thead>\n",
       "    <tr style=\"text-align: right;\">\n",
       "      <th></th>\n",
       "      <th>id</th>\n",
       "      <th>repo</th>\n",
       "      <th>title</th>\n",
       "      <th>body</th>\n",
       "      <th>created_at</th>\n",
       "      <th>created_by</th>\n",
       "      <th>num_labels</th>\n",
       "    </tr>\n",
       "  </thead>\n",
       "  <tbody>\n",
       "    <tr>\n",
       "      <th>5432</th>\n",
       "      <td>thoth-station/thoth-application/291</td>\n",
       "      <td>thoth-station/thoth-application</td>\n",
       "      <td>The pod for image analysis did not run</td>\n",
       "      <td>**Describe the bug**\\r\\nI issued an image anal...</td>\n",
       "      <td>2020-08-21 16:00:14</td>\n",
       "      <td>bissenbay</td>\n",
       "      <td>0</td>\n",
       "    </tr>\n",
       "    <tr>\n",
       "      <th>2576</th>\n",
       "      <td>thoth-station/management-api/60</td>\n",
       "      <td>thoth-station/management-api</td>\n",
       "      <td>Failed to update dependencies to their latest ...</td>\n",
       "      <td>\\nAutomatic dependency update failed for the c...</td>\n",
       "      <td>2019-01-30 12:52:11</td>\n",
       "      <td>sesheta</td>\n",
       "      <td>1</td>\n",
       "    </tr>\n",
       "    <tr>\n",
       "      <th>694</th>\n",
       "      <td>thoth-station/build-watcher/220</td>\n",
       "      <td>thoth-station/build-watcher</td>\n",
       "      <td>New minor release</td>\n",
       "      <td>Hey, Kebechet!\\r\\n\\r\\nCreate a new minor relea...</td>\n",
       "      <td>2021-01-20 09:35:45</td>\n",
       "      <td>fridex</td>\n",
       "      <td>1</td>\n",
       "    </tr>\n",
       "    <tr>\n",
       "      <th>2144</th>\n",
       "      <td>thoth-station/jupyterlab-requirements/197</td>\n",
       "      <td>thoth-station/jupyterlab-requirements</td>\n",
       "      <td>use new feature of thamos to handle virtualenv...</td>\n",
       "      <td>**Is your feature request related to a problem...</td>\n",
       "      <td>2021-03-09 21:44:30</td>\n",
       "      <td>pacospace</td>\n",
       "      <td>2</td>\n",
       "    </tr>\n",
       "    <tr>\n",
       "      <th>1468</th>\n",
       "      <td>thoth-station/graph-sync-job/58</td>\n",
       "      <td>thoth-station/graph-sync-job</td>\n",
       "      <td>Failed to update dependencies to their latest ...</td>\n",
       "      <td>\\nAutomatic dependency update failed for the c...</td>\n",
       "      <td>2018-09-09 16:15:31</td>\n",
       "      <td>sesheta</td>\n",
       "      <td>1</td>\n",
       "    </tr>\n",
       "  </tbody>\n",
       "</table>\n",
       "</div>"
      ],
      "text/plain": [
       "                                             id  \\\n",
       "5432        thoth-station/thoth-application/291   \n",
       "2576            thoth-station/management-api/60   \n",
       "694             thoth-station/build-watcher/220   \n",
       "2144  thoth-station/jupyterlab-requirements/197   \n",
       "1468            thoth-station/graph-sync-job/58   \n",
       "\n",
       "                                       repo  \\\n",
       "5432        thoth-station/thoth-application   \n",
       "2576           thoth-station/management-api   \n",
       "694             thoth-station/build-watcher   \n",
       "2144  thoth-station/jupyterlab-requirements   \n",
       "1468           thoth-station/graph-sync-job   \n",
       "\n",
       "                                                  title  \\\n",
       "5432             The pod for image analysis did not run   \n",
       "2576  Failed to update dependencies to their latest ...   \n",
       "694                                   New minor release   \n",
       "2144  use new feature of thamos to handle virtualenv...   \n",
       "1468  Failed to update dependencies to their latest ...   \n",
       "\n",
       "                                                   body           created_at  \\\n",
       "5432  **Describe the bug**\\r\\nI issued an image anal...  2020-08-21 16:00:14   \n",
       "2576  \\nAutomatic dependency update failed for the c...  2019-01-30 12:52:11   \n",
       "694   Hey, Kebechet!\\r\\n\\r\\nCreate a new minor relea...  2021-01-20 09:35:45   \n",
       "2144  **Is your feature request related to a problem...  2021-03-09 21:44:30   \n",
       "1468  \\nAutomatic dependency update failed for the c...  2018-09-09 16:15:31   \n",
       "\n",
       "     created_by  num_labels  \n",
       "5432  bissenbay           0  \n",
       "2576    sesheta           1  \n",
       "694      fridex           1  \n",
       "2144  pacospace           2  \n",
       "1468    sesheta           1  "
      ]
     },
     "execution_count": 3,
     "metadata": {},
     "output_type": "execute_result"
    }
   ],
   "source": [
    "issues_df.sample(5)"
   ]
  },
  {
   "cell_type": "code",
   "execution_count": 4,
   "id": "e74d81ef",
   "metadata": {
    "ExecuteTime": {
     "end_time": "2021-06-22T20:14:22.753408Z",
     "start_time": "2021-06-22T20:14:22.741964Z"
    }
   },
   "outputs": [
    {
     "data": {
      "text/html": [
       "<div>\n",
       "<style scoped>\n",
       "    .dataframe tbody tr th:only-of-type {\n",
       "        vertical-align: middle;\n",
       "    }\n",
       "\n",
       "    .dataframe tbody tr th {\n",
       "        vertical-align: top;\n",
       "    }\n",
       "\n",
       "    .dataframe thead th {\n",
       "        text-align: right;\n",
       "    }\n",
       "</style>\n",
       "<table border=\"1\" class=\"dataframe\">\n",
       "  <thead>\n",
       "    <tr style=\"text-align: right;\">\n",
       "      <th></th>\n",
       "      <th>id</th>\n",
       "      <th>name</th>\n",
       "    </tr>\n",
       "  </thead>\n",
       "  <tbody>\n",
       "    <tr>\n",
       "      <th>633</th>\n",
       "      <td>thoth-station/cleanup-job/197</td>\n",
       "      <td>bot</td>\n",
       "    </tr>\n",
       "    <tr>\n",
       "      <th>438</th>\n",
       "      <td>thoth-station/analyzer/21</td>\n",
       "      <td>bot</td>\n",
       "    </tr>\n",
       "    <tr>\n",
       "      <th>4203</th>\n",
       "      <td>thoth-station/storages/2250</td>\n",
       "      <td>deployment_name/ocp4-test</td>\n",
       "    </tr>\n",
       "    <tr>\n",
       "      <th>3301</th>\n",
       "      <td>thoth-station/qeb-hwt/113</td>\n",
       "      <td>lifecycle/rotten</td>\n",
       "    </tr>\n",
       "    <tr>\n",
       "      <th>4379</th>\n",
       "      <td>thoth-station/thamos/416</td>\n",
       "      <td>bot</td>\n",
       "    </tr>\n",
       "  </tbody>\n",
       "</table>\n",
       "</div>"
      ],
      "text/plain": [
       "                                 id                       name\n",
       "633   thoth-station/cleanup-job/197                        bot\n",
       "438       thoth-station/analyzer/21                        bot\n",
       "4203    thoth-station/storages/2250  deployment_name/ocp4-test\n",
       "3301      thoth-station/qeb-hwt/113           lifecycle/rotten\n",
       "4379       thoth-station/thamos/416                        bot"
      ]
     },
     "execution_count": 4,
     "metadata": {},
     "output_type": "execute_result"
    }
   ],
   "source": [
    "labels_df.sample(5)"
   ]
  },
  {
   "cell_type": "code",
   "execution_count": 5,
   "id": "3e7f3f78",
   "metadata": {
    "ExecuteTime": {
     "end_time": "2021-06-22T20:34:58.887476Z",
     "start_time": "2021-06-22T20:34:58.878809Z"
    }
   },
   "outputs": [
    {
     "data": {
      "text/plain": [
       "bot                            2186\n",
       "human_intervention_required     549\n",
       "kind/feature                    475\n",
       "todo :spiral_notepad:           381\n",
       "kind/bug                        310\n",
       "good first issue                176\n",
       "priority/important-soon         148\n",
       "priority/backlog                129\n",
       "hacktoberfest                    94\n",
       "priority/critical-urgent         80\n",
       "triage/needs-information         76\n",
       "priority/important-longterm      76\n",
       "lifecycle/rotten                 76\n",
       "lifecycle/stale                  75\n",
       "sig/devops                       70\n",
       "help wanted                      69\n",
       "deployment_name/zero-prod        61\n",
       "Name: name, dtype: int64"
      ]
     },
     "execution_count": 5,
     "metadata": {},
     "output_type": "execute_result"
    }
   ],
   "source": [
    "# output most popular labels\n",
    "\n",
    "cutoff = 50\n",
    "\n",
    "cts = labels_df.name.value_counts(ascending = False)\n",
    "cts[cts >= cutoff]"
   ]
  },
  {
   "cell_type": "code",
   "execution_count": 6,
   "id": "7d4f60a1-2dec-4ca2-b76a-8bca1da82774",
   "metadata": {},
   "outputs": [],
   "source": [
    "# define synonyms, first in set will be used name\n",
    "\n",
    "synsets = [['kind/bug', 'bug'],\n",
    "            ['kind/feature', 'enhancement']\n",
    "          ]"
   ]
  },
  {
   "cell_type": "code",
   "execution_count": 7,
   "id": "ceda43f9-0c3e-43b9-b2f6-2c14ae5f884c",
   "metadata": {},
   "outputs": [],
   "source": [
    "# equate synonyms\n",
    "\n",
    "for syn in synsets:\n",
    "    equate_syns = lambda x: syn[0] if x in syn[1:] else x\n",
    "    labels_df['name'] = labels_df.name.apply(equate_syns)"
   ]
  },
  {
   "cell_type": "code",
   "execution_count": 8,
   "id": "732e4d0d",
   "metadata": {
    "ExecuteTime": {
     "end_time": "2021-06-22T20:37:34.707376Z",
     "start_time": "2021-06-22T20:37:34.472413Z"
    }
   },
   "outputs": [
    {
     "data": {
      "text/plain": [
       "(0, 6)"
      ]
     },
     "execution_count": 8,
     "metadata": {},
     "output_type": "execute_result"
    },
    {
     "data": {
      "image/png": "[encoded data removed]",
      "text/plain": [
       "<Figure size 432x288 with 1 Axes>"
      ]
     },
     "metadata": {
      "needs_background": "light"
     },
     "output_type": "display_data"
    }
   ],
   "source": [
    "# output histogram of number of labels\n",
    "\n",
    "ax = sns.histplot(issues_df.num_labels, bins = int(max(issues_df.num_labels)))\n",
    "ax.set_xlim((0,6))"
   ]
  },
  {
   "cell_type": "code",
   "execution_count": 10,
   "id": "1fcc62c3-a014-4aad-b877-359c86f4b9c2",
   "metadata": {},
   "outputs": [
    {
     "data": {
      "text/plain": [
       "fridex                1565\n",
       "sesheta               1299\n",
       "pacospace              951\n",
       "goern                  533\n",
       "sentry-io[bot]         471\n",
       "todo[bot]              379\n",
       "harshad16              341\n",
       "saisankargochhayat     170\n",
       "xtuchyna               141\n",
       "khebhut[bot]            98\n",
       "Name: created_by, dtype: int64"
      ]
     },
     "execution_count": 10,
     "metadata": {},
     "output_type": "execute_result"
    }
   ],
   "source": [
    "# view most common issue creators\n",
    "\n",
    "issues_df.created_by.value_counts(ascending = False).head(10)"
   ]
  },
  {
   "cell_type": "code",
   "execution_count": 11,
   "id": "53b38fc5-26ff-4051-8d16-5cccc216dc22",
   "metadata": {},
   "outputs": [
    {
     "name": "stdout",
     "output_type": "stream",
     "text": [
      "bots found:\n",
      "\t todo[bot]\n",
      "\t sentry-io[bot]\n",
      "\t khebhut[bot]\n",
      "\t dependencies[bot]\n",
      "\t github-actions[bot]\n"
     ]
    }
   ],
   "source": [
    "# first find bots transparently tagged as such\n",
    "\n",
    "is_bot = lambda x: x[-5:] == '[bot]'\n",
    "\n",
    "all_names = issues_df.created_by.unique()\n",
    "\n",
    "bots = all_names[[is_bot(x) for x in all_names]]\n",
    "\n",
    "print('bots found:')\n",
    "for b in bots:\n",
    "    print('\\t', b)"
   ]
  },
  {
   "cell_type": "code",
   "execution_count": 12,
   "id": "8a115335-0a56-4b3a-8da5-68444cf2edd2",
   "metadata": {},
   "outputs": [],
   "source": [
    "# choose any additional bot accounts whose issues to not count\n",
    "\n",
    "additional_bots = ['sesheta']"
   ]
  },
  {
   "cell_type": "code",
   "execution_count": 13,
   "id": "9ad651ef-afdf-4058-bf9a-835c8ddd079d",
   "metadata": {},
   "outputs": [],
   "source": [
    "# filter out issues created by bots & their labels\n",
    "\n",
    "bots = np.concatenate((bots, additional_bots))\n",
    "\n",
    "issues_df = issues_df[issues_df.created_by.apply(lambda x: x not in bots)]\n",
    "remaining_ids = set(issues_df.id.values)\n",
    "labels_df = labels_df[labels_df.id.apply(lambda x: x in remaining_ids)]"
   ]
  },
  {
   "cell_type": "code",
   "execution_count": 14,
   "id": "47dff764-a8a2-413c-9965-cf7778810b4d",
   "metadata": {},
   "outputs": [
    {
     "data": {
      "text/plain": [
       "bot                            971\n",
       "kind/feature                   457\n",
       "human_intervention_required    423\n",
       "kind/bug                       247\n",
       "good first issue               156\n",
       "priority/important-soon        125\n",
       "priority/backlog               108\n",
       "hacktoberfest                   71\n",
       "priority/important-longterm     70\n",
       "sig/devops                      64\n",
       "triage/needs-information        63\n",
       "priority/critical-urgent        62\n",
       "help wanted                     57\n",
       "Name: name, dtype: int64"
      ]
     },
     "execution_count": 14,
     "metadata": {},
     "output_type": "execute_result"
    }
   ],
   "source": [
    "# most popular labels, finalized\n",
    "\n",
    "cutoff = 50\n",
    "\n",
    "cts = labels_df.name.value_counts(ascending = False)\n",
    "\n",
    "lbl_cts = cts[cts >= cutoff]\n",
    "\n",
    "final_labels = list(lbl_cts.index)\n",
    "\n",
    "lbl_cts"
   ]
  },
  {
   "cell_type": "code",
   "execution_count": 15,
   "id": "d66a1860-64a8-4821-9837-8edbc2c1aca0",
   "metadata": {},
   "outputs": [
    {
     "data": {
      "text/plain": [
       "(0, 6)"
      ]
     },
     "execution_count": 15,
     "metadata": {},
     "output_type": "execute_result"
    },
    {
     "data": {
      "image/png": "[encoded data removed]",
      "text/plain": [
       "<Figure size 432x288 with 1 Axes>"
      ]
     },
     "metadata": {
      "needs_background": "light"
     },
     "output_type": "display_data"
    }
   ],
   "source": [
    "# output histogram of number of labels, finalized\n",
    "\n",
    "ax = sns.histplot(issues_df.num_labels, bins = int(max(issues_df.num_labels)))\n",
    "ax.set_xlim((0,6))"
   ]
  },
  {
   "cell_type": "code",
   "execution_count": 16,
   "id": "97517c6e",
   "metadata": {
    "ExecuteTime": {
     "end_time": "2021-06-22T18:12:23.667416Z",
     "start_time": "2021-06-22T18:12:23.515074Z"
    }
   },
   "outputs": [],
   "source": [
    "# preprocessing\n",
    "issues_df = issues_df.fillna({'title': '', 'body': ''})\n",
    "issues_df['body'] = issues_df['body'].apply(lambda x: x.replace('\\n', ' <N> ').replace('\\r', ' <R> '))\n",
    "issues_df['input'] = issues_df['title'] + ' <SEP> ' + issues_df['body']"
   ]
  },
  {
   "cell_type": "code",
   "execution_count": 39,
   "id": "c08cde46-6b0a-4c67-b883-351f1c2fdbb0",
   "metadata": {
    "tags": []
   },
   "outputs": [],
   "source": [
    "def get_subdataset(label):\n",
    "    \"\"\"\n",
    "    pass in a label name and get back a dataframe of positive & negative samples for the label\n",
    "    we avoid taking unlabelled data as negative samples\n",
    "    negative samples are distributed evenly amongst the other labels\n",
    "    \"\"\"\n",
    "    final_labels_ = final_labels.copy()\n",
    "    final_labels_.remove(label)\n",
    "    pos_samples = labels_df.query('name == \"{}\"'.format(label)).id\n",
    "    n = len(pos_samples)\n",
    "    pos_ids = set(pos_samples.values)\n",
    "    remaining = labels_df[labels_df.id.apply(lambda x: x not in pos_ids)]\n",
    "    n_neg = 0\n",
    "    per_label = n//len(final_labels_)\n",
    "    neg_ids = set()\n",
    "    # evenly sample if we can\n",
    "    # if not enough samples for a label, throw them all in and increase the remaining amount we need per label\n",
    "    for i, lbl in enumerate(reversed(final_labels_)):\n",
    "        neg_samples = remaining.query('name == \"{}\"'.format(lbl)).id\n",
    "        if len(neg_samples) >= per_label:\n",
    "            neg_samples = neg_samples.sample(per_label)\n",
    "            n_neg += per_label\n",
    "        else:\n",
    "            n_neg += len(neg_samples)\n",
    "            per_label = (n - n_neg)//(len(final_labels_) - i - 1)\n",
    "        remaining = remaining[remaining.id.apply(lambda x: x not in set(neg_samples))]\n",
    "        neg_ids = neg_ids.union(set(neg_samples))\n",
    "    # fill in potential gap with unlabelled issues, if needed\n",
    "    if len(pos_ids) > len(neg_ids):\n",
    "        unlabelled = issues_df.query(\"num_labels == 0\")\n",
    "        if len(unlabelled) > len(pos_ids) - len(neg_ids):\n",
    "            neg_ids = neg_ids.union(set(unlabelled.sample(len(pos_ids) - len(neg_ids)).id))\n",
    "        else:\n",
    "            neg_ids = neg_ids.union(set(unlabelled.ids))\n",
    "            pos_samples = pos_samples.sample(len(neg_ids))\n",
    "            pos_ids = set(pos_samples.id)\n",
    "    final_neg_samples = issues_df[issues_df.id.apply(lambda x: x in neg_ids)].input\n",
    "    final_pos_samples = issues_df[issues_df.id.apply(lambda x: x in pos_ids)].input\n",
    "    X = np.concatenate((final_neg_samples.values, final_pos_samples.values)).reshape(-1, 1)\n",
    "    y = np.concatenate((np.zeros(len(final_neg_samples)), np.ones(len(final_pos_samples))))\n",
    "    return X, y.astype(int)"
   ]
  },
  {
   "cell_type": "code",
   "execution_count": 57,
   "id": "e7bf9d4b-b514-4680-9870-ce12a8b02b61",
   "metadata": {
    "tags": []
   },
   "outputs": [],
   "source": [
    "def predict_label(label, k = 5):\n",
    "    \"\"\"\n",
    "    validates fastText model on the given label, using k-fold cross validation\n",
    "    \"\"\"\n",
    "    X, y = get_subdataset(label)\n",
    "    kf = KFold(n_splits=k, random_state=None, shuffle=True)\n",
    "    accuracy = []\n",
    "    precision = []\n",
    "    recall = []\n",
    "    for train_index, test_index in kf.split(X):\n",
    "        model = FirstColFtClassifier()\n",
    "        X_train, X_test = X[train_index], X[test_index]\n",
    "        y_train, y_test = y[train_index], y[test_index]\n",
    "        model.fit(X_train, y_train)\n",
    "        preds = model.predict(X_test)\n",
    "        accuracy.append(np.mean(preds == y_test))\n",
    "        precision_ = preds[preds == 1] == y_test[preds == 1]\n",
    "        if len(precision_) != 0:\n",
    "            precision.append(np.mean(precision_))\n",
    "        recall_ = preds[y_test == 1] == y_test[y_test == 1]\n",
    "        if len(recall_) != 0:\n",
    "            recall.append(np.mean(recall_))\n",
    "    return pd.DataFrame([[label, len(X), np.mean(accuracy), np.mean(precision), np.mean(recall)]], columns = ['label' ,'n', 'accuracy', 'precision', 'recall'])"
   ]
  },
  {
   "cell_type": "code",
   "execution_count": 58,
   "id": "489eac35-26c0-4b8b-a059-29f0010da8c9",
   "metadata": {
    "tags": []
   },
   "outputs": [
    {
     "data": {
      "application/vnd.jupyter.widget-view+json": {
       "model_id": "5f095a1b5a884dc3a5450a622b3ba30e",
       "version_major": 2,
       "version_minor": 0
      },
      "text/plain": [
       "  0%|          | 0/13 [00:00<?, ?it/s]"
      ]
     },
     "metadata": {},
     "output_type": "display_data"
    },
    {
     "name": "stderr",
     "output_type": "stream",
     "text": [
      "/opt/app-root/lib64/python3.8/site-packages/numpy/core/fromnumeric.py:3419: RuntimeWarning: Mean of empty slice.\n",
      "  return _methods._mean(a, axis=axis, dtype=dtype,\n",
      "/opt/app-root/lib64/python3.8/site-packages/numpy/core/_methods.py:188: RuntimeWarning: invalid value encountered in double_scalars\n",
      "  ret = ret.dtype.type(ret / rcount)\n",
      "/opt/app-root/lib64/python3.8/site-packages/numpy/core/fromnumeric.py:3419: RuntimeWarning: Mean of empty slice.\n",
      "  return _methods._mean(a, axis=axis, dtype=dtype,\n",
      "/opt/app-root/lib64/python3.8/site-packages/numpy/core/_methods.py:188: RuntimeWarning: invalid value encountered in double_scalars\n",
      "  ret = ret.dtype.type(ret / rcount)\n",
      "/opt/app-root/lib64/python3.8/site-packages/numpy/core/fromnumeric.py:3419: RuntimeWarning: Mean of empty slice.\n",
      "  return _methods._mean(a, axis=axis, dtype=dtype,\n",
      "/opt/app-root/lib64/python3.8/site-packages/numpy/core/_methods.py:188: RuntimeWarning: invalid value encountered in double_scalars\n",
      "  ret = ret.dtype.type(ret / rcount)\n",
      "/opt/app-root/lib64/python3.8/site-packages/numpy/core/fromnumeric.py:3419: RuntimeWarning: Mean of empty slice.\n",
      "  return _methods._mean(a, axis=axis, dtype=dtype,\n",
      "/opt/app-root/lib64/python3.8/site-packages/numpy/core/_methods.py:188: RuntimeWarning: invalid value encountered in double_scalars\n",
      "  ret = ret.dtype.type(ret / rcount)\n",
      "/opt/app-root/lib64/python3.8/site-packages/numpy/core/fromnumeric.py:3419: RuntimeWarning: Mean of empty slice.\n",
      "  return _methods._mean(a, axis=axis, dtype=dtype,\n",
      "/opt/app-root/lib64/python3.8/site-packages/numpy/core/_methods.py:188: RuntimeWarning: invalid value encountered in double_scalars\n",
      "  ret = ret.dtype.type(ret / rcount)\n"
     ]
    }
   ],
   "source": [
    "predicted_labels = []\n",
    "for label in tqdm(final_labels):\n",
    "    predicted_labels.append(predict_label(label))"
   ]
  },
  {
   "cell_type": "markdown",
   "id": "a414c4b0-08a4-4aee-8a65-5781ae6bb8bc",
   "metadata": {},
   "source": [
    "NOTE: for now, labels with a low amount of samples are very biased towards predicting a 0, or a negative prediction. This could be fixed by adjusting hyperparameters (once they are explored) and/or finetuning on a pretrained model."
   ]
  },
  {
   "cell_type": "code",
   "execution_count": 59,
   "id": "dcef4bae-0b57-4c4a-8151-cde76b2aed4e",
   "metadata": {},
   "outputs": [
    {
     "data": {
      "text/html": [
       "<div>\n",
       "<style scoped>\n",
       "    .dataframe tbody tr th:only-of-type {\n",
       "        vertical-align: middle;\n",
       "    }\n",
       "\n",
       "    .dataframe tbody tr th {\n",
       "        vertical-align: top;\n",
       "    }\n",
       "\n",
       "    .dataframe thead th {\n",
       "        text-align: right;\n",
       "    }\n",
       "</style>\n",
       "<table border=\"1\" class=\"dataframe\">\n",
       "  <thead>\n",
       "    <tr style=\"text-align: right;\">\n",
       "      <th></th>\n",
       "      <th>label</th>\n",
       "      <th>n</th>\n",
       "      <th>accuracy</th>\n",
       "      <th>precision</th>\n",
       "      <th>recall</th>\n",
       "    </tr>\n",
       "  </thead>\n",
       "  <tbody>\n",
       "    <tr>\n",
       "      <th>0</th>\n",
       "      <td>bot</td>\n",
       "      <td>1944</td>\n",
       "      <td>0.986105</td>\n",
       "      <td>0.991813</td>\n",
       "      <td>0.980467</td>\n",
       "    </tr>\n",
       "    <tr>\n",
       "      <th>0</th>\n",
       "      <td>kind/feature</td>\n",
       "      <td>916</td>\n",
       "      <td>0.648337</td>\n",
       "      <td>0.610143</td>\n",
       "      <td>0.581008</td>\n",
       "    </tr>\n",
       "    <tr>\n",
       "      <th>0</th>\n",
       "      <td>human_intervention_required</td>\n",
       "      <td>848</td>\n",
       "      <td>0.605026</td>\n",
       "      <td>0.730583</td>\n",
       "      <td>0.646451</td>\n",
       "    </tr>\n",
       "    <tr>\n",
       "      <th>0</th>\n",
       "      <td>kind/bug</td>\n",
       "      <td>495</td>\n",
       "      <td>0.545455</td>\n",
       "      <td>0.611053</td>\n",
       "      <td>0.826319</td>\n",
       "    </tr>\n",
       "    <tr>\n",
       "      <th>0</th>\n",
       "      <td>good first issue</td>\n",
       "      <td>312</td>\n",
       "      <td>0.538044</td>\n",
       "      <td>0.887500</td>\n",
       "      <td>0.097072</td>\n",
       "    </tr>\n",
       "    <tr>\n",
       "      <th>0</th>\n",
       "      <td>priority/critical-urgent</td>\n",
       "      <td>124</td>\n",
       "      <td>0.508333</td>\n",
       "      <td>0.529412</td>\n",
       "      <td>0.180000</td>\n",
       "    </tr>\n",
       "    <tr>\n",
       "      <th>0</th>\n",
       "      <td>priority/backlog</td>\n",
       "      <td>218</td>\n",
       "      <td>0.505285</td>\n",
       "      <td>NaN</td>\n",
       "      <td>0.000000</td>\n",
       "    </tr>\n",
       "    <tr>\n",
       "      <th>0</th>\n",
       "      <td>priority/important-longterm</td>\n",
       "      <td>141</td>\n",
       "      <td>0.503695</td>\n",
       "      <td>NaN</td>\n",
       "      <td>0.000000</td>\n",
       "    </tr>\n",
       "    <tr>\n",
       "      <th>0</th>\n",
       "      <td>hacktoberfest</td>\n",
       "      <td>143</td>\n",
       "      <td>0.503202</td>\n",
       "      <td>NaN</td>\n",
       "      <td>0.000000</td>\n",
       "    </tr>\n",
       "    <tr>\n",
       "      <th>0</th>\n",
       "      <td>priority/important-soon</td>\n",
       "      <td>250</td>\n",
       "      <td>0.500000</td>\n",
       "      <td>NaN</td>\n",
       "      <td>0.000000</td>\n",
       "    </tr>\n",
       "    <tr>\n",
       "      <th>0</th>\n",
       "      <td>triage/needs-information</td>\n",
       "      <td>126</td>\n",
       "      <td>0.499385</td>\n",
       "      <td>NaN</td>\n",
       "      <td>0.000000</td>\n",
       "    </tr>\n",
       "    <tr>\n",
       "      <th>0</th>\n",
       "      <td>help wanted</td>\n",
       "      <td>113</td>\n",
       "      <td>0.486957</td>\n",
       "      <td>0.666667</td>\n",
       "      <td>0.064444</td>\n",
       "    </tr>\n",
       "    <tr>\n",
       "      <th>0</th>\n",
       "      <td>sig/devops</td>\n",
       "      <td>129</td>\n",
       "      <td>0.464923</td>\n",
       "      <td>0.430556</td>\n",
       "      <td>0.272727</td>\n",
       "    </tr>\n",
       "  </tbody>\n",
       "</table>\n",
       "</div>"
      ],
      "text/plain": [
       "                         label     n  accuracy  precision    recall\n",
       "0                          bot  1944  0.986105   0.991813  0.980467\n",
       "0                 kind/feature   916  0.648337   0.610143  0.581008\n",
       "0  human_intervention_required   848  0.605026   0.730583  0.646451\n",
       "0                     kind/bug   495  0.545455   0.611053  0.826319\n",
       "0             good first issue   312  0.538044   0.887500  0.097072\n",
       "0     priority/critical-urgent   124  0.508333   0.529412  0.180000\n",
       "0             priority/backlog   218  0.505285        NaN  0.000000\n",
       "0  priority/important-longterm   141  0.503695        NaN  0.000000\n",
       "0                hacktoberfest   143  0.503202        NaN  0.000000\n",
       "0      priority/important-soon   250  0.500000        NaN  0.000000\n",
       "0     triage/needs-information   126  0.499385        NaN  0.000000\n",
       "0                  help wanted   113  0.486957   0.666667  0.064444\n",
       "0                   sig/devops   129  0.464923   0.430556  0.272727"
      ]
     },
     "execution_count": 59,
     "metadata": {},
     "output_type": "execute_result"
    }
   ],
   "source": [
    "pd.concat(predicted_labels).sort_values('accuracy', ascending = False)"
   ]
  },
  {
   "cell_type": "code",
   "execution_count": null,
   "id": "2c8ad177-3be0-4eb6-9a83-7474e57e2a8d",
   "metadata": {},
   "outputs": [],
   "source": []
  }
 ],
 "metadata": {
  "finalized": {
   "timestamp": 1623870836948,
   "trusted": true
  },
  "kernelspec": {
   "display_name": "Python 3",
   "language": "python",
   "name": "python3"
  },
  "language_info": {
   "codemirror_mode": {
    "name": "ipython",
    "version": 3
   },
   "file_extension": ".py",
   "mimetype": "text/x-python",
   "name": "python",
   "nbconvert_exporter": "python",
   "pygments_lexer": "ipython3",
   "version": "3.8.3"
  },
  "toc": {
   "base_numbering": 1,
   "nav_menu": {},
   "number_sections": true,
   "sideBar": true,
   "skip_h1_title": false,
   "title_cell": "Table of Contents",
   "title_sidebar": "Contents",
   "toc_cell": false,
   "toc_position": {},
   "toc_section_display": true,
   "toc_window_display": false
  }
 },
 "nbformat": 4,
 "nbformat_minor": 5
}
