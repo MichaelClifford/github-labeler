{
 "cells": [
  {
   "cell_type": "code",
   "execution_count": 2,
   "id": "2702c1d3-bb95-47dd-b016-6dc51995280b",
   "metadata": {},
   "outputs": [
    {
     "name": "stdout",
     "output_type": "stream",
     "text": [
      "Collecting nltk\n",
      "  Downloading nltk-3.6.2-py3-none-any.whl (1.5 MB)\n",
      "\u001b[K     |████████████████████████████████| 1.5 MB 6.6 MB/s eta 0:00:01\n",
      "\u001b[?25hRequirement already satisfied: click in /opt/app-root/lib/python3.8/site-packages (from nltk) (8.0.1)\n",
      "Requirement already satisfied: tqdm in /opt/app-root/lib/python3.8/site-packages (from nltk) (4.62.1)\n",
      "Requirement already satisfied: regex in /opt/app-root/lib/python3.8/site-packages (from nltk) (2021.4.4)\n",
      "Requirement already satisfied: joblib in /opt/app-root/lib/python3.8/site-packages (from nltk) (1.0.1)\n",
      "Installing collected packages: nltk\n",
      "Successfully installed nltk-3.6.2\n",
      "\u001b[33mWARNING: You are using pip version 21.1; however, version 21.2.4 is available.\n",
      "You should consider upgrading via the '/opt/app-root/bin/python3.8 -m pip install --upgrade pip' command.\u001b[0m\n"
     ]
    }
   ],
   "source": [
    "! pip install nltk"
   ]
  },
  {
   "cell_type": "code",
   "execution_count": 30,
   "id": "3bd9facb-b2a3-42d9-9692-2e80eca414d9",
   "metadata": {},
   "outputs": [],
   "source": [
    "import pandas as pd\n",
    "import numpy as np\n",
    "import nltk\n",
    "import re"
   ]
  },
  {
   "cell_type": "code",
   "execution_count": 18,
   "id": "47c12d33-110d-4111-91fe-56bb2b7a42a8",
   "metadata": {},
   "outputs": [],
   "source": [
    "data = pd.read_csv('../data/openshift-_-origin.csv')"
   ]
  },
  {
   "cell_type": "code",
   "execution_count": 5,
   "id": "05b45bc1-36db-4f51-8b1e-1e01624089c0",
   "metadata": {},
   "outputs": [],
   "source": [
    "def get_link(id_):\n",
    "    lst = id_.split('/')\n",
    "    return f'http://github.com/{lst[0]}/{lst[1]}/issues/{lst[2]}'"
   ]
  },
  {
   "cell_type": "code",
   "execution_count": 165,
   "id": "e26cbfd7-e262-423c-b8bc-82efa50fef66",
   "metadata": {},
   "outputs": [],
   "source": [
    "row = data.sample(1).iloc[0]"
   ]
  },
  {
   "cell_type": "code",
   "execution_count": 188,
   "id": "3c0e2f6d-5ab2-4aa6-9472-16699623c621",
   "metadata": {},
   "outputs": [
    {
     "data": {
      "text/plain": [
       "'http://github.com/openshift/origin/issues/17341'"
      ]
     },
     "execution_count": 188,
     "metadata": {},
     "output_type": "execute_result"
    }
   ],
   "source": [
    "get_link(row.id)"
   ]
  },
  {
   "cell_type": "code",
   "execution_count": 167,
   "id": "f937305b-f2af-4c92-8c16-e5891a9fdae1",
   "metadata": {},
   "outputs": [],
   "source": [
    "pattern = \"```.*```\"\n",
    "regex = re.compile(pattern, re.DOTALL)\n",
    "\n",
    "out = re.findall(regex, row.body)"
   ]
  },
  {
   "cell_type": "code",
   "execution_count": 187,
   "id": "354a2f6f-bedd-4bf2-9330-6bd06e61f2fe",
   "metadata": {
    "tags": []
   },
   "outputs": [
    {
     "name": "stdout",
     "output_type": "stream",
     "text": [
      "Role system:image-pusher does not allow to push images. \n",
      " The clusterrole system:image-pusher does NOT allow to push images. \n",
      "  BOLD  Version \n",
      " oc version \n",
      " oc v3.6.173.0.49 \n",
      " kubernetes v1.6.1+5115d708d7 \n",
      " features: Basic-Auth GSSAPI Kerberos SPNEGO \n",
      " Server  URL  \n",
      " openshift v3.6.173.0.49 \n",
      " kubernetes v1.6.1+5115d708d7 \n",
      " In OCP 3.5 does not work neither. \n",
      "  BOLD  Steps To Reproduce \n",
      " 1. Give a user the role system:image-pusher \n",
      " oc adm policy add-cluster-role-to-user system:image-pusher \"USER\" \n",
      " 2. Log into oc with that user \n",
      " oc login \"USER\".. \n",
      " 3. Get user token \n",
      " token=$(oc whoami -t) \n",
      " 4. Log into the registry with Docker cli \n",
      " docker login <registry> -u \"USER\" -p $token \n",
      " 5. Try to push an image \n",
      " docker push... \n",
      "  BOLD  Current Result \n",
      " \"**denied: requested access to the resource is denied**\"  \n",
      " docker push myregistry.example.com/test-push/test-push:latest                                                                                                                                       \n",
      " The push refers to a repository [myregistry.example.com/test-push/test-push]                                                                                                                          \n",
      " a11fda45870e: Mounted from test-push/test-push                                                                                                                                                            \n",
      " **denied: requested access to the resource is denied** \n",
      "  BOLD  Expected Result \n",
      " The docker push command to ends with no errors ;) \n",
      " \n"
     ]
    }
   ],
   "source": [
    "print(bold(enters(urls(tagged_user(code_variable(code_block(row.title + '\\n' + row.body))))).replace('ENTER', '\\n')))"
   ]
  },
  {
   "cell_type": "code",
   "execution_count": 201,
   "id": "6b8e71e8-ff44-4762-921f-baea97195bfc",
   "metadata": {},
   "outputs": [],
   "source": [
    "function_list = []\n",
    "\n",
    "pattern = \"```.+?```\"\n",
    "code_block_regex = re.compile(pattern, re.DOTALL)\n",
    "\n",
    "def code_block(string):\n",
    "    \"\"\"\n",
    "    replaces code blocks with a CODE_BLOCK\n",
    "    \"\"\"\n",
    "    string = re.sub(code_block_regex, 'CODE_BLOCK', string)\n",
    "    return string\n",
    "function_list.append(code_block)\n",
    "\n",
    "pattern = \"`{1,2}.+?`{1,2}\"\n",
    "inline_code_regex = re.compile(pattern, re.DOTALL)\n",
    "\n",
    "def code_variable(string):\n",
    "    \"\"\"\n",
    "    replaces inline code with VARIABLE\n",
    "    \"\"\"\n",
    "    string = re.sub(inline_code_regex, ' INLINE ', string)\n",
    "    return string\n",
    "function_list.append(code_variable)\n",
    "\n",
    "pattern = \"\\s@[^\\s]+\"\n",
    "tagged_user_regex = re.compile(pattern)\n",
    "\n",
    "def tagged_user(string):\n",
    "    \"\"\"\n",
    "    replaces a user tagged with USER\n",
    "    \"\"\"\n",
    "    string = re.sub(tagged_user_regex, ' USER ', string)\n",
    "    return string\n",
    "function_list.append(tagged_user)\n",
    "\n",
    "pattern = \"[^\\s]+\\.(com|org|net|gov|edu)[^\\s]*\"\n",
    "url_regex = re.compile(pattern)\n",
    "\n",
    "def urls(string):\n",
    "    \"\"\"\n",
    "    replaces URLs with URL\n",
    "    \"\"\"\n",
    "    string = re.sub(url_regex, ' URL ', string)\n",
    "    return string\n",
    "function_list.append(urls)\n",
    "\n",
    "pattern = \"[\\r\\n]+\"\n",
    "enter_regex = re.compile(pattern, re.DOTALL)\n",
    "\n",
    "def enters(string):\n",
    "    \"\"\"\n",
    "    replaces \\r\\n with ENTER\n",
    "    \"\"\"\n",
    "    string = re.sub(enter_regex, ' ENTER ', string)\n",
    "    return string\n",
    "function_list.append(enters)\n",
    "\n",
    "pattern = \"#####\"\n",
    "bold_regex = re.compile(pattern, re.DOTALL)\n",
    "\n",
    "def bold(string):\n",
    "    \"\"\"\n",
    "    replace\n",
    "    \"\"\"\n",
    "    string = re.sub(bold_regex, ' BOLD ', string)\n",
    "    return string\n",
    "function_list.append(bold)"
   ]
  },
  {
   "cell_type": "code",
   "execution_count": 202,
   "id": "e16f68f8-cf89-4056-8dfb-27e40195c82e",
   "metadata": {},
   "outputs": [],
   "source": [
    "def preprocess(string):\n",
    "    for func in function_list:\n",
    "        string = func(string)\n",
    "    return string"
   ]
  },
  {
   "cell_type": "code",
   "execution_count": 216,
   "id": "06288b3a-97f6-46f6-be73-9271833a38fe",
   "metadata": {},
   "outputs": [],
   "source": [
    "listed_words = nltk.word_tokenize(preprocess(row.body).lower())"
   ]
  },
  {
   "cell_type": "code",
   "execution_count": 217,
   "id": "c8f6d642-408d-43be-b5cc-62584add85d2",
   "metadata": {},
   "outputs": [],
   "source": [
    "# remove words that are entirely punctiuation\n",
    "\n",
    "pattern = [punctuation]"
   ]
  },
  {
   "cell_type": "code",
   "execution_count": 219,
   "id": "effce553-6120-4597-9e74-47b148f55ee5",
   "metadata": {},
   "outputs": [],
   "source": [
    "from string import punctuation"
   ]
  },
  {
   "cell_type": "code",
   "execution_count": 221,
   "id": "e05fdc6a-8210-4de0-ae86-35c5680b1897",
   "metadata": {},
   "outputs": [],
   "source": [
    "punct = set(punctuation)\n",
    "def all_punc(word):\n",
    "    for ch in word:\n",
    "        if ch not in punct:\n",
    "            return False\n",
    "    return True"
   ]
  },
  {
   "cell_type": "code",
   "execution_count": 223,
   "id": "b35c3eea-1cd3-47d5-81c2-9b7dbf15f824",
   "metadata": {},
   "outputs": [
    {
     "data": {
      "text/plain": [
       "['the',\n",
       " 'clusterrole',\n",
       " 'system',\n",
       " 'image-pusher',\n",
       " 'does',\n",
       " 'not',\n",
       " 'allow',\n",
       " 'to',\n",
       " 'push',\n",
       " 'images',\n",
       " 'enter',\n",
       " 'bold',\n",
       " 'version',\n",
       " 'enter',\n",
       " 'oc',\n",
       " 'version',\n",
       " 'enter',\n",
       " 'oc',\n",
       " 'v3.6.173.0.49',\n",
       " 'enter',\n",
       " 'kubernetes',\n",
       " 'v1.6.1+5115d708d7',\n",
       " 'enter',\n",
       " 'features',\n",
       " 'basic-auth',\n",
       " 'gssapi',\n",
       " 'kerberos',\n",
       " 'spnego',\n",
       " 'enter',\n",
       " 'server',\n",
       " 'https',\n",
       " '//lb.karmalabs.local:8443',\n",
       " 'enter',\n",
       " 'openshift',\n",
       " 'v3.6.173.0.49',\n",
       " 'enter',\n",
       " 'kubernetes',\n",
       " 'v1.6.1+5115d708d7',\n",
       " 'enter',\n",
       " 'in',\n",
       " 'ocp',\n",
       " '3.5',\n",
       " 'does',\n",
       " 'not',\n",
       " 'work',\n",
       " 'neither',\n",
       " 'enter',\n",
       " 'bold',\n",
       " 'steps',\n",
       " 'to',\n",
       " 'reproduce',\n",
       " 'enter',\n",
       " '1.',\n",
       " 'give',\n",
       " 'a',\n",
       " 'user',\n",
       " 'the',\n",
       " 'role',\n",
       " 'system',\n",
       " 'image-pusher',\n",
       " 'enter',\n",
       " 'oc',\n",
       " 'adm',\n",
       " 'policy',\n",
       " 'add-cluster-role-to-user',\n",
       " 'system',\n",
       " 'image-pusher',\n",
       " 'user',\n",
       " 'enter',\n",
       " '2.',\n",
       " 'log',\n",
       " 'into',\n",
       " 'oc',\n",
       " 'with',\n",
       " 'that',\n",
       " 'user',\n",
       " 'enter',\n",
       " 'oc',\n",
       " 'login',\n",
       " 'user',\n",
       " 'enter',\n",
       " '3.',\n",
       " 'get',\n",
       " 'user',\n",
       " 'token',\n",
       " 'enter',\n",
       " 'token=',\n",
       " 'oc',\n",
       " 'whoami',\n",
       " '-t',\n",
       " 'enter',\n",
       " '4.',\n",
       " 'log',\n",
       " 'into',\n",
       " 'the',\n",
       " 'registry',\n",
       " 'with',\n",
       " 'docker',\n",
       " 'cli',\n",
       " 'enter',\n",
       " 'docker',\n",
       " 'login',\n",
       " 'registry',\n",
       " '-u',\n",
       " 'user',\n",
       " '-p',\n",
       " 'token',\n",
       " 'enter',\n",
       " '5.',\n",
       " 'try',\n",
       " 'to',\n",
       " 'push',\n",
       " 'an',\n",
       " 'image',\n",
       " 'enter',\n",
       " 'docker',\n",
       " 'push',\n",
       " 'enter',\n",
       " 'bold',\n",
       " 'current',\n",
       " 'result',\n",
       " 'enter',\n",
       " 'denied',\n",
       " 'requested',\n",
       " 'access',\n",
       " 'to',\n",
       " 'the',\n",
       " 'resource',\n",
       " 'is',\n",
       " 'denied',\n",
       " 'enter',\n",
       " 'docker',\n",
       " 'push',\n",
       " 'url',\n",
       " 'enter',\n",
       " 'the',\n",
       " 'push',\n",
       " 'refers',\n",
       " 'to',\n",
       " 'a',\n",
       " 'repository',\n",
       " 'url',\n",
       " 'enter',\n",
       " 'a11fda45870e',\n",
       " 'mounted',\n",
       " 'from',\n",
       " 'test-push/test-push',\n",
       " 'enter',\n",
       " 'denied',\n",
       " 'requested',\n",
       " 'access',\n",
       " 'to',\n",
       " 'the',\n",
       " 'resource',\n",
       " 'is',\n",
       " 'denied',\n",
       " 'enter',\n",
       " 'bold',\n",
       " 'expected',\n",
       " 'result',\n",
       " 'enter',\n",
       " 'the',\n",
       " 'docker',\n",
       " 'push',\n",
       " 'command',\n",
       " 'to',\n",
       " 'ends',\n",
       " 'with',\n",
       " 'no',\n",
       " 'errors',\n",
       " 'enter']"
      ]
     },
     "execution_count": 223,
     "metadata": {},
     "output_type": "execute_result"
    }
   ],
   "source": [
    "[word for word in listed_words if not all_punc(word)]"
   ]
  },
  {
   "cell_type": "code",
   "execution_count": null,
   "id": "1e9c3b0b-8535-4967-83a7-f2de73f3eda7",
   "metadata": {},
   "outputs": [],
   "source": []
  }
 ],
 "metadata": {
  "kernelspec": {
   "display_name": "Python 3",
   "language": "python",
   "name": "python3"
  },
  "language_info": {
   "codemirror_mode": {
    "name": "ipython",
    "version": 3
   },
   "file_extension": ".py",
   "mimetype": "text/x-python",
   "name": "python",
   "nbconvert_exporter": "python",
   "pygments_lexer": "ipython3",
   "version": "3.8.3"
  }
 },
 "nbformat": 4,
 "nbformat_minor": 5
}
