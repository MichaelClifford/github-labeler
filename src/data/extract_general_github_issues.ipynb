{
 "cells": [
  {
   "cell_type": "code",
   "execution_count": 34,
   "id": "49e910df",
   "metadata": {},
   "outputs": [],
   "source": [
    "from google.cloud import bigquery\n",
    "from google.oauth2 import service_account\n",
    "import json"
   ]
  },
  {
   "cell_type": "code",
   "execution_count": 2,
   "id": "a7490ec9",
   "metadata": {},
   "outputs": [],
   "source": [
    "credentials = service_account.Credentials.from_service_account_file(\n",
    "'../../github-issue-data-extraction-key.json')\n",
    "\n",
    "project_id = 'github-issue-data-extraction'\n",
    "client = bigquery.Client(credentials= credentials, project=project_id)"
   ]
  },
  {
   "cell_type": "code",
   "execution_count": 88,
   "id": "40bc85a8",
   "metadata": {},
   "outputs": [],
   "source": [
    "# yyyymmdd\n",
    "date = '20190101'"
   ]
  },
  {
   "cell_type": "code",
   "execution_count": 86,
   "id": "ff8b66a9",
   "metadata": {},
   "outputs": [],
   "source": [
    "response = client.query(f\"\"\"SELECT JSON_EXTRACT(payload, '$.issue.title') as title,\n",
    "                            JSON_EXTRACT(payload, '$.issue.body') as body,\n",
    "                            JSON_EXTRACT(payload, '$.issue.html_url') as url,\n",
    "                            JSON_EXTRACT(payload, '$.issue.user.login') as actor\n",
    "                            FROM githubarchive.day.{date}\n",
    "                            WHERE type = 'IssuesEvent' AND JSON_EXTRACT(payload, '$.action') = '\"opened\"' \"\"\")"
   ]
  },
  {
   "cell_type": "code",
   "execution_count": 96,
   "id": "85868928",
   "metadata": {},
   "outputs": [],
   "source": [
    "df = response.to_dataframe()"
   ]
  },
  {
   "cell_type": "code",
   "execution_count": 97,
   "id": "4fd56814",
   "metadata": {},
   "outputs": [],
   "source": [
    "# little bit of preprocessing\n",
    "\n",
    "def remove_quotes(string):\n",
    "    if type(string) == str:\n",
    "        return string[1:-1]\n",
    "    else:\n",
    "        return string\n",
    "\n",
    "for col in df.columns:\n",
    "    df[col] = df[col].apply(remove_quotes)\n",
    "    \n",
    "def is_bot(actor):\n",
    "    if actor[-5:] == '[bot]':\n",
    "        return True\n",
    "    else:\n",
    "        return False\n",
    "    \n",
    "df = df[~df[col].apply(is_bot)]"
   ]
  },
  {
   "cell_type": "code",
   "execution_count": null,
   "id": "2181641e",
   "metadata": {},
   "outputs": [],
   "source": []
  }
 ],
 "metadata": {
  "kernelspec": {
   "display_name": "Python 3",
   "language": "python",
   "name": "python3"
  },
  "language_info": {
   "codemirror_mode": {
    "name": "ipython",
    "version": 3
   },
   "file_extension": ".py",
   "mimetype": "text/x-python",
   "name": "python",
   "nbconvert_exporter": "python",
   "pygments_lexer": "ipython3",
   "version": "3.8.8"
  }
 },
 "nbformat": 4,
 "nbformat_minor": 5
}
