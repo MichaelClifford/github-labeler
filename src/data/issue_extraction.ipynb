{
 "cells": [
  {
   "cell_type": "code",
   "execution_count": 5,
   "id": "a89e1402",
   "metadata": {
    "ExecuteTime": {
     "end_time": "2021-06-22T20:15:45.495566Z",
     "start_time": "2021-06-22T20:15:42.688012Z"
    }
   },
   "outputs": [],
   "source": [
    "import pandas as pd\n",
    "import numpy as np\n",
    "from tqdm.notebook import tqdm\n",
    "import collections\n",
    "import datetime\n",
    "import time\n",
    "from github import Github, RateLimitExceededException\n",
    "import os\n",
    "import itertools\n",
    "import seaborn as sns"
   ]
  },
  {
   "cell_type": "code",
   "execution_count": 6,
   "id": "249933c0",
   "metadata": {
    "ExecuteTime": {
     "end_time": "2021-06-22T20:15:44.114917Z",
     "start_time": "2021-06-22T20:15:43.435538Z"
    }
   },
   "outputs": [],
   "source": [
    "g = Github(os.getenv('GITHUB_ACCESS_TOKEN'))"
   ]
  },
  {
   "cell_type": "code",
   "execution_count": 17,
   "id": "6887a53c",
   "metadata": {
    "ExecuteTime": {
     "end_time": "2021-06-22T20:15:44.803238Z",
     "start_time": "2021-06-22T20:15:44.118251Z"
    },
    "tags": []
   },
   "outputs": [],
   "source": [
    "# one of USER or REPO must be empty\n",
    "\n",
    "# username of person or organization\n",
    "USER = 'thoth-station'\n",
    "# OR  person-org-name/repo-name\n",
    "REPO = ''"
   ]
  },
  {
   "cell_type": "code",
   "execution_count": 18,
   "id": "c66d03d8",
   "metadata": {
    "ExecuteTime": {
     "end_time": "2021-06-22T20:15:45.482703Z",
     "start_time": "2021-06-22T20:15:44.805741Z"
    }
   },
   "outputs": [],
   "source": [
    "# add all repos to list, or create list of one\n",
    "repos_ = []\n",
    "\n",
    "if USER:\n",
    "    org = g.get_user(USER)\n",
    "    repos = org.get_repos()\n",
    "    for repo in repos:\n",
    "        repos_.append(repo)\n",
    "else:\n",
    "    to_add = g.get_repo(REPO)\n",
    "    repos_.append(to_add)"
   ]
  },
  {
   "cell_type": "code",
   "execution_count": 19,
   "id": "7e59e709",
   "metadata": {
    "ExecuteTime": {
     "end_time": "2021-06-22T20:15:45.485314Z",
     "start_time": "2021-06-22T20:15:57.315Z"
    }
   },
   "outputs": [],
   "source": [
    "def get_issues_for_repo(repo):\n",
    "    \"\"\"\n",
    "    takes in a pygithub repo object and returns the list of pygithub issue objects\n",
    "    \"\"\"\n",
    "    issues = []\n",
    "    issues_left = True\n",
    "    max_date = datetime.datetime.min\n",
    "    while issues_left:\n",
    "        issues_left = False\n",
    "        try:\n",
    "            for issue in repo.get_issues(state = 'all', direction = 'asc', since = max_date):        \n",
    "                max_date = issue.created_at\n",
    "                if issue.pull_request is None:\n",
    "                    issues.append(issue)\n",
    "        except RateLimitExceededException as e:\n",
    "            # rate limit exception\n",
    "            print(len(issues), 'issues added for', {repo.full_name})\n",
    "            print('SLEEPING NOW')\n",
    "            time.sleep(60*61)\n",
    "            issues_left = True\n",
    "    return issues"
   ]
  },
  {
   "cell_type": "code",
   "execution_count": null,
   "id": "5fd5165f",
   "metadata": {
    "ExecuteTime": {
     "end_time": "2021-06-22T20:15:45.486696Z",
     "start_time": "2021-06-22T20:15:57.319Z"
    }
   },
   "outputs": [
    {
     "name": "stdout",
     "output_type": "stream",
     "text": [
      "getting issues for repos\n"
     ]
    },
    {
     "data": {
      "application/vnd.jupyter.widget-view+json": {
       "model_id": "da588343f0c54efd916f7e93c1d24a14",
       "version_major": 2,
       "version_minor": 0
      },
      "text/plain": [
       "  0%|          | 0/161 [00:00<?, ?it/s]"
      ]
     },
     "metadata": {},
     "output_type": "display_data"
    },
    {
     "name": "stdout",
     "output_type": "stream",
     "text": [
      "87 issues added for {'thoth-station/slo-reporter'}\n",
      "SLEEPING NOW\n"
     ]
    }
   ],
   "source": [
    "# add in all issues\n",
    "all_issues = {}\n",
    "\n",
    "if USER:\n",
    "    print('getting issues for repos')\n",
    "    for repo in tqdm(repos_):\n",
    "        all_issues[repo.full_name] = get_issues_for_repo(repo)\n",
    "else:\n",
    "    repo = repos_[0]\n",
    "    all_issues[repo.full_name] = get_issues_for_repo(repo)\n",
    "    \n",
    "total_issues = sum([len(b) for a,b in all_issues.items()])\n",
    "print(total_issues, 'total issues')"
   ]
  },
  {
   "cell_type": "code",
   "execution_count": null,
   "id": "1c582777",
   "metadata": {
    "ExecuteTime": {
     "end_time": "2021-06-22T20:15:45.488061Z",
     "start_time": "2021-06-22T20:15:57.323Z"
    }
   },
   "outputs": [],
   "source": [
    "# create a dataframe for issues\n",
    "\n",
    "issue_data = []\n",
    "\n",
    "for repo, issues in tqdm(all_issues.items()):\n",
    "    for issue in issues:\n",
    "        labels = [l.name for l in issue.labels]\n",
    "        issue_data.append([repo + '/' + str(issue.number),repo, issue.title, issue.body, issue.created_at, issue.user.login, len(labels), '\\t'.join(labels) if labels else np.nan])\n",
    "issues_df = pd.DataFrame(issue_data, columns = ['id', 'repo', 'title', 'body', 'created_at', 'created_by', 'num_labels', 'labels'])"
   ]
  },
  {
   "cell_type": "code",
   "execution_count": null,
   "id": "06d7675c",
   "metadata": {
    "ExecuteTime": {
     "end_time": "2021-06-22T20:15:45.489197Z",
     "start_time": "2021-06-22T20:15:57.325Z"
    }
   },
   "outputs": [],
   "source": [
    "# show issues dataframe\n",
    "issues_df.sample(5)"
   ]
  },
  {
   "cell_type": "code",
   "execution_count": null,
   "id": "97973a1d-a1d5-4500-a9c0-215cced61257",
   "metadata": {},
   "outputs": [],
   "source": [
    "# view most common labels\n",
    "\n",
    "label_lst = list(itertools.chain.from_iterable([ls.split('\\t') for ls in issues_df.labels.dropna()]))\n",
    "counter = collections.Counter(label_lst)\n",
    "\n",
    "counter.most_common(20)"
   ]
  },
  {
   "cell_type": "code",
   "execution_count": null,
   "id": "b1fed60e-84b1-4014-ab26-2ab80dc1af07",
   "metadata": {},
   "outputs": [],
   "source": [
    "# view most common issue creators\n",
    "\n",
    "issues_df.created_by.value_counts()[:20]"
   ]
  },
  {
   "cell_type": "code",
   "execution_count": null,
   "id": "ca4bd5a2-f829-4416-a614-fb5d5adcddaa",
   "metadata": {},
   "outputs": [],
   "source": [
    "# view distribution of the number of issues in a label\n",
    "\n",
    "ax = sns.histplot(issues_df.num_labels, bins = int(max(issues_df.num_labels)))\n",
    "ax.set_xlim((0,6))"
   ]
  },
  {
   "cell_type": "code",
   "execution_count": null,
   "id": "7be05b32",
   "metadata": {
    "ExecuteTime": {
     "end_time": "2021-06-22T20:15:45.491676Z",
     "start_time": "2021-06-22T20:15:57.328Z"
    }
   },
   "outputs": [],
   "source": [
    "# save dataframe\n",
    "SAVENAME = USER if USER else REPO.replace('/', '-_-')\n",
    "issues_df.to_csv(os.path.join('../../data',SAVENAME + '.csv'), index = None)"
   ]
  }
 ],
 "metadata": {
  "kernelspec": {
   "display_name": "Python 3",
   "language": "python",
   "name": "python3"
  },
  "language_info": {
   "codemirror_mode": {
    "name": "ipython",
    "version": 3
   },
   "file_extension": ".py",
   "mimetype": "text/x-python",
   "name": "python",
   "nbconvert_exporter": "python",
   "pygments_lexer": "ipython3",
   "version": "3.8.3"
  },
  "toc": {
   "base_numbering": 1,
   "nav_menu": {},
   "number_sections": true,
   "sideBar": true,
   "skip_h1_title": false,
   "title_cell": "Table of Contents",
   "title_sidebar": "Contents",
   "toc_cell": false,
   "toc_position": {},
   "toc_section_display": true,
   "toc_window_display": false
  }
 },
 "nbformat": 4,
 "nbformat_minor": 5
}
