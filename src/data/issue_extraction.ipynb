{
 "cells": [
  {
   "cell_type": "code",
   "execution_count": 1,
   "id": "a89e1402",
   "metadata": {
    "ExecuteTime": {
     "end_time": "2021-06-22T20:15:45.495566Z",
     "start_time": "2021-06-22T20:15:42.688012Z"
    },
    "execution": {
     "iopub.execute_input": "2021-07-31T07:40:16.358829Z",
     "iopub.status.busy": "2021-07-31T07:40:16.357819Z",
     "iopub.status.idle": "2021-07-31T07:40:18.176870Z",
     "shell.execute_reply": "2021-07-31T07:40:18.177654Z"
    },
    "papermill": {
     "duration": 1.859258,
     "end_time": "2021-07-31T07:40:18.178034",
     "exception": false,
     "start_time": "2021-07-31T07:40:16.318776",
     "status": "completed"
    },
    "tags": []
   },
   "outputs": [],
   "source": [
    "import pandas as pd\n",
    "import numpy as np\n",
    "import collections\n",
    "import datetime\n",
    "import time\n",
    "from github import Github, RateLimitExceededException\n",
    "import os\n",
    "import itertools\n",
    "import seaborn as sns\n",
    "import io\n",
    "from dotenv import load_dotenv, find_dotenv\n",
    "import boto3"
   ]
  },
  {
   "cell_type": "code",
   "execution_count": 2,
   "id": "590a6aed-4100-48e8-9fdd-19a93832402b",
   "metadata": {
    "execution": {
     "iopub.execute_input": "2021-07-31T07:40:18.237983Z",
     "iopub.status.busy": "2021-07-31T07:40:18.236942Z",
     "iopub.status.idle": "2021-07-31T07:40:18.247244Z",
     "shell.execute_reply": "2021-07-31T07:40:18.248141Z"
    },
    "papermill": {
     "duration": 0.04678,
     "end_time": "2021-07-31T07:40:18.248450",
     "exception": false,
     "start_time": "2021-07-31T07:40:18.201670",
     "status": "completed"
    },
    "tags": []
   },
   "outputs": [
    {
     "data": {
      "text/plain": [
       "True"
      ]
     },
     "execution_count": 2,
     "metadata": {},
     "output_type": "execute_result"
    }
   ],
   "source": [
    "load_dotenv(find_dotenv())"
   ]
  },
  {
   "cell_type": "code",
   "execution_count": 3,
   "id": "249933c0",
   "metadata": {
    "ExecuteTime": {
     "end_time": "2021-06-22T20:15:44.114917Z",
     "start_time": "2021-06-22T20:15:43.435538Z"
    },
    "execution": {
     "iopub.execute_input": "2021-07-31T07:40:18.301773Z",
     "iopub.status.busy": "2021-07-31T07:40:18.300723Z",
     "iopub.status.idle": "2021-07-31T07:40:18.303878Z",
     "shell.execute_reply": "2021-07-31T07:40:18.302880Z"
    },
    "papermill": {
     "duration": 0.029324,
     "end_time": "2021-07-31T07:40:18.304048",
     "exception": false,
     "start_time": "2021-07-31T07:40:18.274724",
     "status": "completed"
    },
    "tags": []
   },
   "outputs": [],
   "source": [
    "g = Github(os.getenv(\"GITHUB_ACCESS_TOKEN\"))"
   ]
  },
  {
   "cell_type": "code",
   "execution_count": 4,
   "id": "6887a53c",
   "metadata": {
    "ExecuteTime": {
     "end_time": "2021-06-22T20:15:44.803238Z",
     "start_time": "2021-06-22T20:15:44.118251Z"
    },
    "execution": {
     "iopub.execute_input": "2021-07-31T07:40:18.357734Z",
     "iopub.status.busy": "2021-07-31T07:40:18.356731Z",
     "iopub.status.idle": "2021-07-31T07:40:18.359239Z",
     "shell.execute_reply": "2021-07-31T07:40:18.360005Z"
    },
    "papermill": {
     "duration": 0.035865,
     "end_time": "2021-07-31T07:40:18.360276",
     "exception": false,
     "start_time": "2021-07-31T07:40:18.324411",
     "status": "completed"
    },
    "tags": []
   },
   "outputs": [],
   "source": [
    "name = os.getenv(\"REPO_NAME\")\n",
    "\n",
    "if \"/\" in name:\n",
    "    REPO = name\n",
    "    USER = \"\"\n",
    "else:\n",
    "    USER = name\n",
    "    REPO = \"\""
   ]
  },
  {
   "cell_type": "code",
   "execution_count": 5,
   "id": "d1298fab-a757-43ad-98d8-8394a595636c",
   "metadata": {
    "execution": {
     "iopub.execute_input": "2021-07-31T07:40:18.434541Z",
     "iopub.status.busy": "2021-07-31T07:40:18.432187Z",
     "iopub.status.idle": "2021-07-31T07:40:18.542961Z",
     "shell.execute_reply": "2021-07-31T07:40:18.543605Z"
    },
    "papermill": {
     "duration": 0.156901,
     "end_time": "2021-07-31T07:40:18.543916",
     "exception": false,
     "start_time": "2021-07-31T07:40:18.387015",
     "status": "completed"
    },
    "tags": []
   },
   "outputs": [],
   "source": [
    "# whether to use ceph or store locally\n",
    "\n",
    "use_ceph = True\n",
    "\n",
    "if use_ceph:\n",
    "    s3_endpoint_url = os.environ[\"OBJECT_STORAGE_ENDPOINT_URL\"]\n",
    "    s3_access_key = os.environ[\"AWS_ACCESS_KEY_ID\"]\n",
    "    s3_secret_key = os.environ[\"AWS_SECRET_ACCESS_KEY\"]\n",
    "    s3_bucket = os.environ[\"OBJECT_STORAGE_BUCKET_NAME\"]\n",
    "\n",
    "    s3 = boto3.client(\n",
    "        service_name=\"s3\",\n",
    "        aws_access_key_id=s3_access_key,\n",
    "        aws_secret_access_key=s3_secret_key,\n",
    "        endpoint_url=s3_endpoint_url,\n",
    "    )"
   ]
  },
  {
   "cell_type": "code",
   "execution_count": 6,
   "id": "c66d03d8",
   "metadata": {
    "ExecuteTime": {
     "end_time": "2021-06-22T20:15:45.482703Z",
     "start_time": "2021-06-22T20:15:44.805741Z"
    },
    "execution": {
     "iopub.execute_input": "2021-07-31T07:40:18.589964Z",
     "iopub.status.busy": "2021-07-31T07:40:18.589026Z",
     "iopub.status.idle": "2021-07-31T07:40:18.751899Z",
     "shell.execute_reply": "2021-07-31T07:40:18.752679Z"
    },
    "papermill": {
     "duration": 0.190736,
     "end_time": "2021-07-31T07:40:18.752967",
     "exception": false,
     "start_time": "2021-07-31T07:40:18.562231",
     "status": "completed"
    },
    "tags": []
   },
   "outputs": [],
   "source": [
    "# add all repos to list, or create list of one\n",
    "repos_ = []\n",
    "\n",
    "if USER:\n",
    "    org = g.get_user(USER)\n",
    "    repos = org.get_repos()\n",
    "    for repo in repos:\n",
    "        repos_.append(repo)\n",
    "else:\n",
    "    to_add = g.get_repo(REPO)\n",
    "    repos_.append(to_add)"
   ]
  },
  {
   "cell_type": "code",
   "execution_count": 7,
   "id": "7e59e709",
   "metadata": {
    "ExecuteTime": {
     "end_time": "2021-06-22T20:15:45.485314Z",
     "start_time": "2021-06-22T20:15:57.315Z"
    },
    "execution": {
     "iopub.execute_input": "2021-07-31T07:40:18.815060Z",
     "iopub.status.busy": "2021-07-31T07:40:18.814313Z",
     "iopub.status.idle": "2021-07-31T07:40:18.816951Z",
     "shell.execute_reply": "2021-07-31T07:40:18.817507Z"
    },
    "papermill": {
     "duration": 0.034518,
     "end_time": "2021-07-31T07:40:18.817706",
     "exception": false,
     "start_time": "2021-07-31T07:40:18.783188",
     "status": "completed"
    },
    "tags": []
   },
   "outputs": [],
   "source": [
    "def get_issues_for_repo(repo):\n",
    "    \"\"\"\n",
    "    takes in a pygithub repo object and returns the list of pygithub issue objects\n",
    "    \"\"\"\n",
    "    issues = []\n",
    "    issues_left = True\n",
    "    max_date = datetime.datetime.min\n",
    "    while issues_left:\n",
    "        issues_left = False\n",
    "        try:\n",
    "            for issue in repo.get_issues(state=\"all\", direction=\"asc\", since=max_date):\n",
    "                max_date = issue.created_at\n",
    "                if issue.pull_request is None:\n",
    "                    issues.append(issue)\n",
    "        except RateLimitExceededException:\n",
    "            # rate limit exception\n",
    "            print(len(issues), \"issues added for\", {repo.full_name})\n",
    "            print(\"SLEEPING NOW FOR AN HOUR\")\n",
    "            time.sleep(60 * 61)\n",
    "            issues_left = True\n",
    "    return issues"
   ]
  },
  {
   "cell_type": "code",
   "execution_count": 8,
   "id": "5fd5165f",
   "metadata": {
    "ExecuteTime": {
     "end_time": "2021-06-22T20:15:45.486696Z",
     "start_time": "2021-06-22T20:15:57.319Z"
    },
    "execution": {
     "iopub.execute_input": "2021-07-31T07:40:18.874079Z",
     "iopub.status.busy": "2021-07-31T07:40:18.873089Z",
     "iopub.status.idle": "2021-07-31T07:46:12.991382Z",
     "shell.execute_reply": "2021-07-31T07:46:12.992278Z"
    },
    "papermill": {
     "duration": 354.151558,
     "end_time": "2021-07-31T07:46:12.992597",
     "exception": false,
     "start_time": "2021-07-31T07:40:18.841039",
     "status": "completed"
    },
    "tags": []
   },
   "outputs": [
    {
     "name": "stdout",
     "output_type": "stream",
     "text": [
      "2834 total issues\n"
     ]
    }
   ],
   "source": [
    "# add in all issues\n",
    "all_issues = {}\n",
    "\n",
    "if USER:\n",
    "    print(\"getting issues for repos\")\n",
    "    for repo in repos_:\n",
    "        all_issues[repo.full_name] = get_issues_for_repo(repo)\n",
    "else:\n",
    "    repo = repos_[0]\n",
    "    all_issues[repo.full_name] = get_issues_for_repo(repo)\n",
    "\n",
    "total_issues = sum([len(b) for a, b in all_issues.items()])\n",
    "print(total_issues, \"total issues\")"
   ]
  },
  {
   "cell_type": "code",
   "execution_count": 9,
   "id": "1c582777",
   "metadata": {
    "ExecuteTime": {
     "end_time": "2021-06-22T20:15:45.488061Z",
     "start_time": "2021-06-22T20:15:57.323Z"
    },
    "execution": {
     "iopub.execute_input": "2021-07-31T07:46:13.059748Z",
     "iopub.status.busy": "2021-07-31T07:46:13.055170Z",
     "iopub.status.idle": "2021-07-31T07:46:13.097340Z",
     "shell.execute_reply": "2021-07-31T07:46:13.096579Z"
    },
    "papermill": {
     "duration": 0.079778,
     "end_time": "2021-07-31T07:46:13.097510",
     "exception": false,
     "start_time": "2021-07-31T07:46:13.017732",
     "status": "completed"
    },
    "tags": []
   },
   "outputs": [],
   "source": [
    "# create a dataframe for issues\n",
    "\n",
    "issue_data = []\n",
    "\n",
    "for repo, issues in all_issues.items():\n",
    "    for issue in issues:\n",
    "        labels = [lbl.name for lbl in issue.labels]\n",
    "        label_names = \"\\t\".join(labels) if labels else np.nan\n",
    "        id_ = repo + \"/\" + str(issue.number)\n",
    "        data = [\n",
    "            id_,\n",
    "            repo,\n",
    "            issue.title,\n",
    "            issue.body,\n",
    "            issue.created_at,\n",
    "            issue.user.login,\n",
    "            len(labels),\n",
    "            label_names,\n",
    "        ]\n",
    "        issue_data.append(data)\n",
    "cols = [\n",
    "    \"id\",\n",
    "    \"repo\",\n",
    "    \"title\",\n",
    "    \"body\",\n",
    "    \"created_at\",\n",
    "    \"created_by\",\n",
    "    \"num_labels\",\n",
    "    \"labels\",\n",
    "]\n",
    "issues_df = pd.DataFrame(issue_data, columns=cols)"
   ]
  },
  {
   "cell_type": "code",
   "execution_count": 10,
   "id": "06d7675c",
   "metadata": {
    "ExecuteTime": {
     "end_time": "2021-06-22T20:15:45.489197Z",
     "start_time": "2021-06-22T20:15:57.325Z"
    },
    "execution": {
     "iopub.execute_input": "2021-07-31T07:46:13.141266Z",
     "iopub.status.busy": "2021-07-31T07:46:13.140518Z",
     "iopub.status.idle": "2021-07-31T07:46:13.154925Z",
     "shell.execute_reply": "2021-07-31T07:46:13.155546Z"
    },
    "papermill": {
     "duration": 0.039056,
     "end_time": "2021-07-31T07:46:13.155752",
     "exception": false,
     "start_time": "2021-07-31T07:46:13.116696",
     "status": "completed"
    },
    "tags": []
   },
   "outputs": [
    {
     "data": {
      "text/html": [
       "<div>\n",
       "<style scoped>\n",
       "    .dataframe tbody tr th:only-of-type {\n",
       "        vertical-align: middle;\n",
       "    }\n",
       "\n",
       "    .dataframe tbody tr th {\n",
       "        vertical-align: top;\n",
       "    }\n",
       "\n",
       "    .dataframe thead th {\n",
       "        text-align: right;\n",
       "    }\n",
       "</style>\n",
       "<table border=\"1\" class=\"dataframe\">\n",
       "  <thead>\n",
       "    <tr style=\"text-align: right;\">\n",
       "      <th></th>\n",
       "      <th>id</th>\n",
       "      <th>repo</th>\n",
       "      <th>title</th>\n",
       "      <th>body</th>\n",
       "      <th>created_at</th>\n",
       "      <th>created_by</th>\n",
       "      <th>num_labels</th>\n",
       "      <th>labels</th>\n",
       "    </tr>\n",
       "  </thead>\n",
       "  <tbody>\n",
       "    <tr>\n",
       "      <th>569</th>\n",
       "      <td>pytorch/fairseq/936</td>\n",
       "      <td>pytorch/fairseq</td>\n",
       "      <td>Small errors in preprocessing script for GLUE ...</td>\n",
       "      <td>Hi,\\r\\n\\r\\nI try to fine-tune the roberta mode...</td>\n",
       "      <td>2019-07-31 09:09:50</td>\n",
       "      <td>villmow</td>\n",
       "      <td>0</td>\n",
       "      <td>NaN</td>\n",
       "    </tr>\n",
       "    <tr>\n",
       "      <th>2502</th>\n",
       "      <td>pytorch/fairseq/3371</td>\n",
       "      <td>pytorch/fairseq</td>\n",
       "      <td>[Question] wav2vec 2.0 timestamp words</td>\n",
       "      <td>Is it possible to extract the Words start time...</td>\n",
       "      <td>2021-03-18 23:12:54</td>\n",
       "      <td>irux</td>\n",
       "      <td>3</td>\n",
       "      <td>needs triage\\tquestion\\tstale</td>\n",
       "    </tr>\n",
       "    <tr>\n",
       "      <th>1686</th>\n",
       "      <td>pytorch/fairseq/2378</td>\n",
       "      <td>pytorch/fairseq</td>\n",
       "      <td>How to set classification_head_name in roberta</td>\n",
       "      <td>## ❓ Questions and Help\\r\\n\\r\\n#### What is yo...</td>\n",
       "      <td>2020-07-27 10:53:03</td>\n",
       "      <td>xu-song</td>\n",
       "      <td>2</td>\n",
       "      <td>needs triage\\tquestion</td>\n",
       "    </tr>\n",
       "    <tr>\n",
       "      <th>2007</th>\n",
       "      <td>pytorch/fairseq/2766</td>\n",
       "      <td>pytorch/fairseq</td>\n",
       "      <td>M2M Corpus Inclusion?</td>\n",
       "      <td>This is really just feedback for the authors o...</td>\n",
       "      <td>2020-10-21 11:06:12</td>\n",
       "      <td>normanhh3</td>\n",
       "      <td>0</td>\n",
       "      <td>NaN</td>\n",
       "    </tr>\n",
       "    <tr>\n",
       "      <th>1649</th>\n",
       "      <td>pytorch/fairseq/2330</td>\n",
       "      <td>pytorch/fairseq</td>\n",
       "      <td>Document missing?</td>\n",
       "      <td>## 📚 Documentation\\r\\n\\r\\nIt seems that some d...</td>\n",
       "      <td>2020-07-15 08:21:09</td>\n",
       "      <td>butsugiri</td>\n",
       "      <td>2</td>\n",
       "      <td>documentation\\tneeds triage</td>\n",
       "    </tr>\n",
       "  </tbody>\n",
       "</table>\n",
       "</div>"
      ],
      "text/plain": [
       "                        id             repo  \\\n",
       "569    pytorch/fairseq/936  pytorch/fairseq   \n",
       "2502  pytorch/fairseq/3371  pytorch/fairseq   \n",
       "1686  pytorch/fairseq/2378  pytorch/fairseq   \n",
       "2007  pytorch/fairseq/2766  pytorch/fairseq   \n",
       "1649  pytorch/fairseq/2330  pytorch/fairseq   \n",
       "\n",
       "                                                  title  \\\n",
       "569   Small errors in preprocessing script for GLUE ...   \n",
       "2502             [Question] wav2vec 2.0 timestamp words   \n",
       "1686     How to set classification_head_name in roberta   \n",
       "2007                              M2M Corpus Inclusion?   \n",
       "1649                                  Document missing?   \n",
       "\n",
       "                                                   body          created_at  \\\n",
       "569   Hi,\\r\\n\\r\\nI try to fine-tune the roberta mode... 2019-07-31 09:09:50   \n",
       "2502  Is it possible to extract the Words start time... 2021-03-18 23:12:54   \n",
       "1686  ## ❓ Questions and Help\\r\\n\\r\\n#### What is yo... 2020-07-27 10:53:03   \n",
       "2007  This is really just feedback for the authors o... 2020-10-21 11:06:12   \n",
       "1649  ## 📚 Documentation\\r\\n\\r\\nIt seems that some d... 2020-07-15 08:21:09   \n",
       "\n",
       "     created_by  num_labels                         labels  \n",
       "569     villmow           0                            NaN  \n",
       "2502       irux           3  needs triage\\tquestion\\tstale  \n",
       "1686    xu-song           2         needs triage\\tquestion  \n",
       "2007  normanhh3           0                            NaN  \n",
       "1649  butsugiri           2    documentation\\tneeds triage  "
      ]
     },
     "execution_count": 10,
     "metadata": {},
     "output_type": "execute_result"
    }
   ],
   "source": [
    "# show issues dataframe\n",
    "issues_df.sample(5)"
   ]
  },
  {
   "cell_type": "code",
   "execution_count": 11,
   "id": "97973a1d-a1d5-4500-a9c0-215cced61257",
   "metadata": {
    "execution": {
     "iopub.execute_input": "2021-07-31T07:46:13.210991Z",
     "iopub.status.busy": "2021-07-31T07:46:13.200597Z",
     "iopub.status.idle": "2021-07-31T07:46:13.215705Z",
     "shell.execute_reply": "2021-07-31T07:46:13.214239Z"
    },
    "papermill": {
     "duration": 0.041225,
     "end_time": "2021-07-31T07:46:13.215892",
     "exception": false,
     "start_time": "2021-07-31T07:46:13.174667",
     "status": "completed"
    },
    "tags": []
   },
   "outputs": [
    {
     "data": {
      "text/plain": [
       "[('question', 1178),\n",
       " ('needs triage', 987),\n",
       " ('stale', 463),\n",
       " ('bug', 401),\n",
       " ('enhancement', 167),\n",
       " ('help wanted', 146),\n",
       " ('documentation', 85),\n",
       " ('speech-to-text', 42),\n",
       " ('windows', 26),\n",
       " ('unable to repro', 26),\n",
       " ('wav2vec', 9),\n",
       " ('BART/mBART', 4),\n",
       " ('cleanup', 3),\n",
       " ('0.10.2', 2),\n",
       " ('M2M-100', 2),\n",
       " ('LayerDrop', 1),\n",
       " ('python3.9', 1),\n",
       " ('translation', 1),\n",
       " ('paraphraser', 1),\n",
       " ('DynamicConv/LightConv', 1)]"
      ]
     },
     "execution_count": 11,
     "metadata": {},
     "output_type": "execute_result"
    }
   ],
   "source": [
    "# view most common labels\n",
    "\n",
    "label_lst = list(\n",
    "    itertools.chain.from_iterable([ls.split(\"\\t\") for ls in issues_df.labels.dropna()])\n",
    ")\n",
    "counter = collections.Counter(label_lst)\n",
    "\n",
    "counter.most_common(20)"
   ]
  },
  {
   "cell_type": "code",
   "execution_count": 12,
   "id": "b1fed60e-84b1-4014-ab26-2ab80dc1af07",
   "metadata": {
    "execution": {
     "iopub.execute_input": "2021-07-31T07:46:13.267271Z",
     "iopub.status.busy": "2021-07-31T07:46:13.266389Z",
     "iopub.status.idle": "2021-07-31T07:46:13.270028Z",
     "shell.execute_reply": "2021-07-31T07:46:13.270576Z"
    },
    "papermill": {
     "duration": 0.032847,
     "end_time": "2021-07-31T07:46:13.270780",
     "exception": false,
     "start_time": "2021-07-31T07:46:13.237933",
     "status": "completed"
    },
    "tags": []
   },
   "outputs": [
    {
     "data": {
      "text/plain": [
       "shamanez          31\n",
       "erip              27\n",
       "gaopengcuhk       20\n",
       "ajesujoba         20\n",
       "astariul          18\n",
       "nicolabertoldi    17\n",
       "travel-go         16\n",
       "tuhinjubcse       16\n",
       "munael            16\n",
       "gvskalyan         15\n",
       "villmow           15\n",
       "MrityunjoyS       14\n",
       "getao             14\n",
       "aastha19          13\n",
       "haorannlp         13\n",
       "ghost             13\n",
       "14H034160212      13\n",
       "ismymajia         12\n",
       "louismartin       11\n",
       "sshleifer         11\n",
       "Name: created_by, dtype: int64"
      ]
     },
     "execution_count": 12,
     "metadata": {},
     "output_type": "execute_result"
    }
   ],
   "source": [
    "# view most common issue creators\n",
    "\n",
    "issues_df.created_by.value_counts()[:20]"
   ]
  },
  {
   "cell_type": "code",
   "execution_count": 13,
   "id": "ca4bd5a2-f829-4416-a614-fb5d5adcddaa",
   "metadata": {
    "execution": {
     "iopub.execute_input": "2021-07-31T07:46:13.317744Z",
     "iopub.status.busy": "2021-07-31T07:46:13.316593Z",
     "iopub.status.idle": "2021-07-31T07:46:13.521440Z",
     "shell.execute_reply": "2021-07-31T07:46:13.520735Z"
    },
    "papermill": {
     "duration": 0.231305,
     "end_time": "2021-07-31T07:46:13.521632",
     "exception": false,
     "start_time": "2021-07-31T07:46:13.290327",
     "status": "completed"
    },
    "tags": []
   },
   "outputs": [
    {
     "data": {
      "text/plain": [
       "(0.0, 6.0)"
      ]
     },
     "execution_count": 13,
     "metadata": {},
     "output_type": "execute_result"
    },
    {
     "data": {
      "image/png": "[encoded data removed]",
      "text/plain": [
       "<Figure size 432x288 with 1 Axes>"
      ]
     },
     "metadata": {
      "needs_background": "light"
     },
     "output_type": "display_data"
    }
   ],
   "source": [
    "# view distribution of the number of issues in a label\n",
    "\n",
    "ax = sns.histplot(issues_df.num_labels, bins=int(max(issues_df.num_labels)))\n",
    "ax.set_xlim((0, 6))"
   ]
  },
  {
   "cell_type": "code",
   "execution_count": 14,
   "id": "7be05b32",
   "metadata": {
    "ExecuteTime": {
     "end_time": "2021-06-22T20:15:45.491676Z",
     "start_time": "2021-06-22T20:15:57.328Z"
    },
    "execution": {
     "iopub.execute_input": "2021-07-31T07:46:13.574230Z",
     "iopub.status.busy": "2021-07-31T07:46:13.573488Z",
     "iopub.status.idle": "2021-07-31T07:46:14.704644Z",
     "shell.execute_reply": "2021-07-31T07:46:14.705413Z"
    },
    "papermill": {
     "duration": 1.16409,
     "end_time": "2021-07-31T07:46:14.705707",
     "exception": false,
     "start_time": "2021-07-31T07:46:13.541617",
     "status": "completed"
    },
    "tags": []
   },
   "outputs": [],
   "source": [
    "# save dataframe\n",
    "savename = USER if USER else REPO.replace(\"/\", \"-_-\")\n",
    "\n",
    "if use_ceph:\n",
    "    with io.StringIO() as csv_buffer:\n",
    "        issues_df.to_csv(csv_buffer, index=False)\n",
    "\n",
    "        response = s3.put_object(\n",
    "            Bucket=s3_bucket, Key=f\"data/{savename}.csv\", Body=csv_buffer.getvalue()\n",
    "        )\n",
    "else:\n",
    "    issues_df.to_csv(os.path.join(\"../../data\", savename + \".csv\"), index=None)"
   ]
  }
 ],
 "metadata": {
  "kernelspec": {
   "display_name": "Python 3",
   "language": "python",
   "name": "python3"
  },
  "language_info": {
   "codemirror_mode": {
    "name": "ipython",
    "version": 3
   },
   "file_extension": ".py",
   "mimetype": "text/x-python",
   "name": "python",
   "nbconvert_exporter": "python",
   "pygments_lexer": "ipython3",
   "version": "3.8.3"
  },
  "papermill": {
   "default_parameters": {},
   "duration": 361.167154,
   "end_time": "2021-07-31T07:46:16.303588",
   "environment_variables": {},
   "exception": null,
   "input_path": "/opt/app-root/src/github-labeler/src/data/issue_extraction.ipynb",
   "output_path": "/opt/app-root/src/github-labeler/src/data/issue_extraction.ipynb",
   "parameters": {},
   "start_time": "2021-07-31T07:40:15.136434",
   "version": "2.3.3"
  },
  "toc": {
   "base_numbering": 1,
   "nav_menu": {},
   "number_sections": true,
   "sideBar": true,
   "skip_h1_title": false,
   "title_cell": "Table of Contents",
   "title_sidebar": "Contents",
   "toc_cell": false,
   "toc_position": {},
   "toc_section_display": true,
   "toc_window_display": false
  }
 },
 "nbformat": 4,
 "nbformat_minor": 5
}
