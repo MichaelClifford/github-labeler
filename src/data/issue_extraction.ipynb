{
 "cells": [
  {
   "cell_type": "code",
   "execution_count": 4,
   "id": "a89e1402",
   "metadata": {
    "ExecuteTime": {
     "end_time": "2021-06-22T20:15:45.495566Z",
     "start_time": "2021-06-22T20:15:42.688012Z"
    },
    "papermill": {
     "duration": 0.153488,
     "end_time": "2021-07-23T20:08:01.656000",
     "exception": true,
     "start_time": "2021-07-23T20:08:01.502512",
     "status": "failed"
    },
    "tags": []
   },
   "outputs": [],
   "source": [
    "import pandas as pd\n",
    "import numpy as np\n",
    "import collections\n",
    "import datetime\n",
    "import time\n",
    "from github import Github, RateLimitExceededException\n",
    "import os\n",
    "import itertools\n",
    "import seaborn as sns\n",
    "import io\n",
    "from dotenv import load_dotenv, find_dotenv\n",
    "import boto3"
   ]
  },
  {
   "cell_type": "code",
   "execution_count": null,
   "id": "590a6aed-4100-48e8-9fdd-19a93832402b",
   "metadata": {},
   "outputs": [],
   "source": [
    "load_dotenv(find_dotenv())"
   ]
  },
  {
   "cell_type": "code",
   "execution_count": null,
   "id": "249933c0",
   "metadata": {
    "ExecuteTime": {
     "end_time": "2021-06-22T20:15:44.114917Z",
     "start_time": "2021-06-22T20:15:43.435538Z"
    },
    "papermill": {
     "duration": null,
     "end_time": null,
     "exception": null,
     "start_time": null,
     "status": "pending"
    },
    "tags": []
   },
   "outputs": [],
   "source": [
    "g = Github(os.getenv('GITHUB_ACCESS_TOKEN'))"
   ]
  },
  {
   "cell_type": "code",
   "execution_count": null,
   "id": "6887a53c",
   "metadata": {
    "ExecuteTime": {
     "end_time": "2021-06-22T20:15:44.803238Z",
     "start_time": "2021-06-22T20:15:44.118251Z"
    },
    "papermill": {
     "duration": null,
     "end_time": null,
     "exception": null,
     "start_time": null,
     "status": "pending"
    },
    "tags": []
   },
   "outputs": [],
   "source": [
    "name = os.getenv('REPO_NAME')\n",
    "\n",
    "if '/' in name:\n",
    "    REPO = name\n",
    "    USER = ''\n",
    "else:\n",
    "    USER = name\n",
    "    REPO = ''"
   ]
  },
  {
   "cell_type": "code",
   "execution_count": null,
   "id": "d1298fab-a757-43ad-98d8-8394a595636c",
   "metadata": {
    "papermill": {
     "duration": null,
     "end_time": null,
     "exception": null,
     "start_time": null,
     "status": "pending"
    },
    "tags": []
   },
   "outputs": [],
   "source": [
    "# whether to use ceph or store locally\n",
    "\n",
    "use_ceph = True\n",
    "\n",
    "if use_ceph:\n",
    "    s3_endpoint_url = os.environ[\"OBJECT_STORAGE_ENDPOINT_URL\"]\n",
    "    s3_access_key = os.environ[\"AWS_ACCESS_KEY_ID\"]\n",
    "    s3_secret_key = os.environ[\"AWS_SECRET_ACCESS_KEY\"]\n",
    "    s3_bucket = os.environ[\"OBJECT_STORAGE_BUCKET_NAME\"]\n",
    "\n",
    "    s3 = boto3.client(\n",
    "        service_name=\"s3\",\n",
    "        aws_access_key_id=s3_access_key,\n",
    "        aws_secret_access_key=s3_secret_key,\n",
    "        endpoint_url=s3_endpoint_url)"
   ]
  },
  {
   "cell_type": "code",
   "execution_count": null,
   "id": "c66d03d8",
   "metadata": {
    "ExecuteTime": {
     "end_time": "2021-06-22T20:15:45.482703Z",
     "start_time": "2021-06-22T20:15:44.805741Z"
    },
    "papermill": {
     "duration": null,
     "end_time": null,
     "exception": null,
     "start_time": null,
     "status": "pending"
    },
    "tags": []
   },
   "outputs": [],
   "source": [
    "# add all repos to list, or create list of one\n",
    "repos_ = []\n",
    "\n",
    "if USER:\n",
    "    org = g.get_user(USER)\n",
    "    repos = org.get_repos()\n",
    "    for repo in repos:\n",
    "        repos_.append(repo)\n",
    "else:\n",
    "    to_add = g.get_repo(REPO)\n",
    "    repos_.append(to_add)"
   ]
  },
  {
   "cell_type": "code",
   "execution_count": null,
   "id": "7e59e709",
   "metadata": {
    "ExecuteTime": {
     "end_time": "2021-06-22T20:15:45.485314Z",
     "start_time": "2021-06-22T20:15:57.315Z"
    },
    "papermill": {
     "duration": null,
     "end_time": null,
     "exception": null,
     "start_time": null,
     "status": "pending"
    },
    "tags": []
   },
   "outputs": [],
   "source": [
    "def get_issues_for_repo(repo):\n",
    "    \"\"\"\n",
    "    takes in a pygithub repo object and returns the list of pygithub issue objects\n",
    "    \"\"\"\n",
    "    issues = []\n",
    "    issues_left = True\n",
    "    max_date = datetime.datetime.min\n",
    "    while issues_left:\n",
    "        issues_left = False\n",
    "        try:\n",
    "            for issue in repo.get_issues(state = 'all', direction = 'asc', since = max_date):\n",
    "                max_date = issue.created_at\n",
    "                if issue.pull_request is None:\n",
    "                    issues.append(issue)\n",
    "        except RateLimitExceededException:\n",
    "            # rate limit exception\n",
    "            print(len(issues), 'issues added for', {repo.full_name})\n",
    "            print('SLEEPING NOW FOR AN HOUR')\n",
    "            time.sleep(60*61)\n",
    "            issues_left = True\n",
    "    return issues"
   ]
  },
  {
   "cell_type": "code",
   "execution_count": null,
   "id": "5fd5165f",
   "metadata": {
    "ExecuteTime": {
     "end_time": "2021-06-22T20:15:45.486696Z",
     "start_time": "2021-06-22T20:15:57.319Z"
    },
    "papermill": {
     "duration": null,
     "end_time": null,
     "exception": null,
     "start_time": null,
     "status": "pending"
    },
    "tags": []
   },
   "outputs": [],
   "source": [
    "# add in all issues\n",
    "all_issues = {}\n",
    "\n",
    "if USER:\n",
    "    print('getting issues for repos')\n",
    "    for repo in repos_:\n",
    "        all_issues[repo.full_name] = get_issues_for_repo(repo)\n",
    "else:\n",
    "    repo = repos_[0]\n",
    "    all_issues[repo.full_name] = get_issues_for_repo(repo)\n",
    "\n",
    "total_issues = sum([len(b) for a,b in all_issues.items()])\n",
    "print(total_issues, 'total issues')"
   ]
  },
  {
   "cell_type": "code",
   "execution_count": null,
   "id": "1c582777",
   "metadata": {
    "ExecuteTime": {
     "end_time": "2021-06-22T20:15:45.488061Z",
     "start_time": "2021-06-22T20:15:57.323Z"
    },
    "papermill": {
     "duration": null,
     "end_time": null,
     "exception": null,
     "start_time": null,
     "status": "pending"
    },
    "tags": []
   },
   "outputs": [],
   "source": [
    "# create a dataframe for issues\n",
    "\n",
    "issue_data = []\n",
    "\n",
    "for repo, issues in all_issues.items():\n",
    "    for issue in issues:\n",
    "        labels = [lbl.name for lbl in issue.labels]\n",
    "        labels = '\\t'.join(labels) if labels else np.nan\n",
    "        id_ = repo + '/' + str(issue.number)\n",
    "        data = [id_,repo, issue.title, issue.body, issue.created_at, issue.user.login, len(labels), labels]\n",
    "        issue_data.append(data)\n",
    "cols = ['id', 'repo', 'title', 'body', 'created_at', 'created_by', 'num_labels', 'labels']\n",
    "issues_df = pd.DataFrame(issue_data, columns = cols)"
   ]
  },
  {
   "cell_type": "code",
   "execution_count": null,
   "id": "06d7675c",
   "metadata": {
    "ExecuteTime": {
     "end_time": "2021-06-22T20:15:45.489197Z",
     "start_time": "2021-06-22T20:15:57.325Z"
    },
    "papermill": {
     "duration": null,
     "end_time": null,
     "exception": null,
     "start_time": null,
     "status": "pending"
    },
    "tags": []
   },
   "outputs": [],
   "source": [
    "# show issues dataframe\n",
    "issues_df.sample(5)"
   ]
  },
  {
   "cell_type": "code",
   "execution_count": null,
   "id": "97973a1d-a1d5-4500-a9c0-215cced61257",
   "metadata": {
    "papermill": {
     "duration": null,
     "end_time": null,
     "exception": null,
     "start_time": null,
     "status": "pending"
    },
    "tags": []
   },
   "outputs": [],
   "source": [
    "# view most common labels\n",
    "\n",
    "label_lst = list(itertools.chain.from_iterable([ls.split('\\t') for ls in issues_df.labels.dropna()]))\n",
    "counter = collections.Counter(label_lst)\n",
    "\n",
    "counter.most_common(20)"
   ]
  },
  {
   "cell_type": "code",
   "execution_count": null,
   "id": "b1fed60e-84b1-4014-ab26-2ab80dc1af07",
   "metadata": {
    "papermill": {
     "duration": null,
     "end_time": null,
     "exception": null,
     "start_time": null,
     "status": "pending"
    },
    "tags": []
   },
   "outputs": [],
   "source": [
    "# view most common issue creators\n",
    "\n",
    "issues_df.created_by.value_counts()[:20]"
   ]
  },
  {
   "cell_type": "code",
   "execution_count": null,
   "id": "ca4bd5a2-f829-4416-a614-fb5d5adcddaa",
   "metadata": {
    "papermill": {
     "duration": null,
     "end_time": null,
     "exception": null,
     "start_time": null,
     "status": "pending"
    },
    "tags": []
   },
   "outputs": [],
   "source": [
    "# view distribution of the number of issues in a label\n",
    "\n",
    "ax = sns.histplot(issues_df.num_labels, bins = int(max(issues_df.num_labels)))\n",
    "ax.set_xlim((0,6))"
   ]
  },
  {
   "cell_type": "code",
   "execution_count": null,
   "id": "7be05b32",
   "metadata": {
    "ExecuteTime": {
     "end_time": "2021-06-22T20:15:45.491676Z",
     "start_time": "2021-06-22T20:15:57.328Z"
    },
    "papermill": {
     "duration": null,
     "end_time": null,
     "exception": null,
     "start_time": null,
     "status": "pending"
    },
    "tags": []
   },
   "outputs": [],
   "source": [
    "# save dataframe\n",
    "savename = USER if USER else REPO.replace('/', '-_-')\n",
    "\n",
    "if use_ceph:\n",
    "    with io.StringIO() as csv_buffer:\n",
    "        issues_df.to_csv(csv_buffer, index=False)\n",
    "\n",
    "        response = s3.put_object(\n",
    "            Bucket=s3_bucket, Key=f'data/{savename}.csv', Body=csv_buffer.getvalue()\n",
    "        )\n",
    "issues_df.to_csv(os.path.join('../../data',savename + '.csv'), index = None)"
   ]
  }
 ],
 "metadata": {
  "kernelspec": {
   "display_name": "Python 3",
   "language": "python",
   "name": "python3"
  },
  "language_info": {
   "codemirror_mode": {
    "name": "ipython",
    "version": 3
   },
   "file_extension": ".py",
   "mimetype": "text/x-python",
   "name": "python",
   "nbconvert_exporter": "python",
   "pygments_lexer": "ipython3",
   "version": "3.8.3"
  },
  "papermill": {
   "default_parameters": {},
   "duration": 1.582629,
   "end_time": "2021-07-23T20:08:01.981538",
   "environment_variables": {},
   "exception": true,
   "input_path": "/opt/app-root/src/github-labeler/src/data/issue_extraction.ipynb",
   "output_path": "/opt/app-root/src/github-labeler/src/data/issue_extraction.ipynb",
   "parameters": {},
   "start_time": "2021-07-23T20:08:00.398909",
   "version": "2.3.3"
  },
  "toc": {
   "base_numbering": 1,
   "nav_menu": {},
   "number_sections": true,
   "sideBar": true,
   "skip_h1_title": false,
   "title_cell": "Table of Contents",
   "title_sidebar": "Contents",
   "toc_cell": false,
   "toc_position": {},
   "toc_section_display": true,
   "toc_window_display": false
  }
 },
 "nbformat": 4,
 "nbformat_minor": 5
}
