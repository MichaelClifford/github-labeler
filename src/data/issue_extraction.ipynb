{
 "cells": [
  {
   "cell_type": "code",
   "execution_count": 1,
   "id": "a89e1402",
   "metadata": {
    "ExecuteTime": {
     "end_time": "2021-06-22T20:15:45.495566Z",
     "start_time": "2021-06-22T20:15:42.688012Z"
    }
   },
   "outputs": [],
   "source": [
    "import pandas as pd\n",
    "import numpy as np\n",
    "from tqdm.notebook import tqdm\n",
    "import collections\n",
    "import datetime\n",
    "import time\n",
    "from github import Github\n",
    "import os\n",
    "import itertools\n",
    "from github import RateLimitExceededException\n",
    "from sklearn.model_selection import KFold\n",
    "import seaborn as sns"
   ]
  },
  {
   "cell_type": "code",
   "execution_count": 2,
   "id": "249933c0",
   "metadata": {
    "ExecuteTime": {
     "end_time": "2021-06-22T20:15:44.114917Z",
     "start_time": "2021-06-22T20:15:43.435538Z"
    }
   },
   "outputs": [],
   "source": [
    "g = Github(os.getenv('GITHUB_ACCESS_TOKEN'))"
   ]
  },
  {
   "cell_type": "code",
   "execution_count": 3,
   "id": "6887a53c",
   "metadata": {
    "ExecuteTime": {
     "end_time": "2021-06-22T20:15:44.803238Z",
     "start_time": "2021-06-22T20:15:44.118251Z"
    },
    "tags": []
   },
   "outputs": [],
   "source": [
    "# one of USER or REPO must be empty\n",
    "\n",
    "# username of person or organization\n",
    "USER = 'thoth-station'\n",
    "# OR  person-org-name/repo-name\n",
    "REPO = ''"
   ]
  },
  {
   "cell_type": "code",
   "execution_count": 4,
   "id": "c66d03d8",
   "metadata": {
    "ExecuteTime": {
     "end_time": "2021-06-22T20:15:45.482703Z",
     "start_time": "2021-06-22T20:15:44.805741Z"
    }
   },
   "outputs": [],
   "source": [
    "# add all repos to list, or create list of one\n",
    "repos_ = []\n",
    "\n",
    "if USER:\n",
    "    org = g.get_user(USER)\n",
    "    repos = org.get_repos()\n",
    "    for repo in repos:\n",
    "        repos_.append(repo)\n",
    "else:\n",
    "    to_add = g.get_repo(REPO)\n",
    "    repos_.append(to_add)"
   ]
  },
  {
   "cell_type": "code",
   "execution_count": 5,
   "id": "7e59e709",
   "metadata": {
    "ExecuteTime": {
     "end_time": "2021-06-22T20:15:45.485314Z",
     "start_time": "2021-06-22T20:15:57.315Z"
    }
   },
   "outputs": [],
   "source": [
    "def get_issues_for_repo(repo):\n",
    "    \"\"\"\n",
    "    takes in a pygithub repo object and returns the list of pygithub issue objects\n",
    "    \"\"\"\n",
    "    issues = []\n",
    "    issues_left = True\n",
    "    max_date = datetime.datetime.min\n",
    "    while issues_left:\n",
    "        issues_left = False\n",
    "        try:\n",
    "            for issue in repo.get_issues(state = 'all', direction = 'asc', since = max_date):        \n",
    "                max_date = issue.created_at\n",
    "                if issue.pull_request is None:\n",
    "                    issues.append(issue)\n",
    "        except RateLimitExceededException as e:\n",
    "            # rate limit exception\n",
    "            print(len(issues), 'issues added for', {repo.full_name})\n",
    "            print('SLEEPING NOW')\n",
    "            time.sleep(60*61)\n",
    "            issues_left = True\n",
    "    return issues"
   ]
  },
  {
   "cell_type": "code",
   "execution_count": 6,
   "id": "5fd5165f",
   "metadata": {
    "ExecuteTime": {
     "end_time": "2021-06-22T20:15:45.486696Z",
     "start_time": "2021-06-22T20:15:57.319Z"
    }
   },
   "outputs": [
    {
     "name": "stdout",
     "output_type": "stream",
     "text": [
      "getting issues for repos\n"
     ]
    },
    {
     "data": {
      "application/vnd.jupyter.widget-view+json": {
       "model_id": "c35cbbbf26a1491ca67c14c143c7c777",
       "version_major": 2,
       "version_minor": 0
      },
      "text/plain": [
       "  0%|          | 0/160 [00:00<?, ?it/s]"
      ]
     },
     "metadata": {},
     "output_type": "display_data"
    },
    {
     "name": "stdout",
     "output_type": "stream",
     "text": [
      "84 issues added for {'thoth-station/solver'}\n",
      "SLEEPING NOW\n",
      "6173 total issues\n"
     ]
    }
   ],
   "source": [
    "# add in all issues\n",
    "all_issues = {}\n",
    "\n",
    "if USER:\n",
    "    print('getting issues for repos')\n",
    "    for repo in tqdm(repos_):\n",
    "        all_issues[repo.full_name] = get_issues_for_repo(repo)\n",
    "else:\n",
    "    repo = repos_[0]\n",
    "    all_issues[repo.full_name] = get_issues_for_repo(repo)\n",
    "    \n",
    "total_issues = sum([len(b) for a,b in all_issues.items()])\n",
    "print(total_issues, 'total issues')"
   ]
  },
  {
   "cell_type": "code",
   "execution_count": 8,
   "id": "1c582777",
   "metadata": {
    "ExecuteTime": {
     "end_time": "2021-06-22T20:15:45.488061Z",
     "start_time": "2021-06-22T20:15:57.323Z"
    }
   },
   "outputs": [
    {
     "data": {
      "application/vnd.jupyter.widget-view+json": {
       "model_id": "3322adf84a6e41d3aa11333bdc025bd3",
       "version_major": 2,
       "version_minor": 0
      },
      "text/plain": [
       "  0%|          | 0/160 [00:00<?, ?it/s]"
      ]
     },
     "metadata": {},
     "output_type": "display_data"
    }
   ],
   "source": [
    "# create a dataframe for issues\n",
    "# create a dataframe for labels\n",
    "\n",
    "issue_data = []\n",
    "label_data = []\n",
    "\n",
    "for repo, issues in tqdm(all_issues.items()):\n",
    "    for issue in issues:\n",
    "        issue_data.append([repo + '/' + str(issue.number),repo, issue.title, issue.body, issue.created_at, issue.user.login, len(issue.labels)])\n",
    "        for l in issue.labels:\n",
    "            label_data.append([repo + '/' + str(issue.number), l.name])\n",
    "issues_df = pd.DataFrame(issue_data, columns = ['id', 'repo', 'title', 'body', 'created_at', 'created_by', 'num_labels'])\n",
    "labels_df = pd.DataFrame(label_data, columns = ['id', 'name'])"
   ]
  },
  {
   "cell_type": "code",
   "execution_count": 9,
   "id": "06d7675c",
   "metadata": {
    "ExecuteTime": {
     "end_time": "2021-06-22T20:15:45.489197Z",
     "start_time": "2021-06-22T20:15:57.325Z"
    }
   },
   "outputs": [
    {
     "data": {
      "text/html": [
       "<div>\n",
       "<style scoped>\n",
       "    .dataframe tbody tr th:only-of-type {\n",
       "        vertical-align: middle;\n",
       "    }\n",
       "\n",
       "    .dataframe tbody tr th {\n",
       "        vertical-align: top;\n",
       "    }\n",
       "\n",
       "    .dataframe thead th {\n",
       "        text-align: right;\n",
       "    }\n",
       "</style>\n",
       "<table border=\"1\" class=\"dataframe\">\n",
       "  <thead>\n",
       "    <tr style=\"text-align: right;\">\n",
       "      <th></th>\n",
       "      <th>id</th>\n",
       "      <th>repo</th>\n",
       "      <th>title</th>\n",
       "      <th>body</th>\n",
       "      <th>created_at</th>\n",
       "      <th>created_by</th>\n",
       "      <th>num_labels</th>\n",
       "    </tr>\n",
       "  </thead>\n",
       "  <tbody>\n",
       "    <tr>\n",
       "      <th>2694</th>\n",
       "      <td>thoth-station/management-api/730</td>\n",
       "      <td>thoth-station/management-api</td>\n",
       "      <td>Provide a sync endpoint</td>\n",
       "      <td>**Is your feature request related to a problem...</td>\n",
       "      <td>2021-03-08 16:09:39</td>\n",
       "      <td>fridex</td>\n",
       "      <td>2</td>\n",
       "    </tr>\n",
       "    <tr>\n",
       "      <th>5505</th>\n",
       "      <td>thoth-station/thoth-application/659</td>\n",
       "      <td>thoth-station/thoth-application</td>\n",
       "      <td>FileNotFoundError: No source distribution foun...</td>\n",
       "      <td>**Describe the bug**\\r\\nFileNotFoundError: No ...</td>\n",
       "      <td>2020-11-18 15:15:39</td>\n",
       "      <td>pacospace</td>\n",
       "      <td>2</td>\n",
       "    </tr>\n",
       "    <tr>\n",
       "      <th>1471</th>\n",
       "      <td>thoth-station/graph-sync-job/64</td>\n",
       "      <td>thoth-station/graph-sync-job</td>\n",
       "      <td>Failed to update dependencies to their latest ...</td>\n",
       "      <td>\\nAutomatic dependency update failed for the c...</td>\n",
       "      <td>2018-09-15 21:26:02</td>\n",
       "      <td>sesheta</td>\n",
       "      <td>1</td>\n",
       "    </tr>\n",
       "    <tr>\n",
       "      <th>3540</th>\n",
       "      <td>thoth-station/package-releases-job/477</td>\n",
       "      <td>thoth-station/package-releases-job</td>\n",
       "      <td>New patch release</td>\n",
       "      <td>Hey, Kebechet!\\r\\n\\r\\nCreate a new patch relea...</td>\n",
       "      <td>2020-09-16 17:07:36</td>\n",
       "      <td>pacospace</td>\n",
       "      <td>1</td>\n",
       "    </tr>\n",
       "    <tr>\n",
       "      <th>3670</th>\n",
       "      <td>thoth-station/python/28</td>\n",
       "      <td>thoth-station/python</td>\n",
       "      <td>New minor release</td>\n",
       "      <td></td>\n",
       "      <td>2018-12-11 18:16:25</td>\n",
       "      <td>fridex</td>\n",
       "      <td>0</td>\n",
       "    </tr>\n",
       "  </tbody>\n",
       "</table>\n",
       "</div>"
      ],
      "text/plain": [
       "                                          id  \\\n",
       "2694        thoth-station/management-api/730   \n",
       "5505     thoth-station/thoth-application/659   \n",
       "1471         thoth-station/graph-sync-job/64   \n",
       "3540  thoth-station/package-releases-job/477   \n",
       "3670                 thoth-station/python/28   \n",
       "\n",
       "                                    repo  \\\n",
       "2694        thoth-station/management-api   \n",
       "5505     thoth-station/thoth-application   \n",
       "1471        thoth-station/graph-sync-job   \n",
       "3540  thoth-station/package-releases-job   \n",
       "3670                thoth-station/python   \n",
       "\n",
       "                                                  title  \\\n",
       "2694                            Provide a sync endpoint   \n",
       "5505  FileNotFoundError: No source distribution foun...   \n",
       "1471  Failed to update dependencies to their latest ...   \n",
       "3540                                  New patch release   \n",
       "3670                                  New minor release   \n",
       "\n",
       "                                                   body          created_at  \\\n",
       "2694  **Is your feature request related to a problem... 2021-03-08 16:09:39   \n",
       "5505  **Describe the bug**\\r\\nFileNotFoundError: No ... 2020-11-18 15:15:39   \n",
       "1471  \\nAutomatic dependency update failed for the c... 2018-09-15 21:26:02   \n",
       "3540  Hey, Kebechet!\\r\\n\\r\\nCreate a new patch relea... 2020-09-16 17:07:36   \n",
       "3670                                                    2018-12-11 18:16:25   \n",
       "\n",
       "     created_by  num_labels  \n",
       "2694     fridex           2  \n",
       "5505  pacospace           2  \n",
       "1471    sesheta           1  \n",
       "3540  pacospace           1  \n",
       "3670     fridex           0  "
      ]
     },
     "execution_count": 9,
     "metadata": {},
     "output_type": "execute_result"
    }
   ],
   "source": [
    "# show issues dataframe\n",
    "issues_df.sample(5)"
   ]
  },
  {
   "cell_type": "code",
   "execution_count": 10,
   "id": "941c2811",
   "metadata": {
    "ExecuteTime": {
     "end_time": "2021-06-22T20:15:45.490409Z",
     "start_time": "2021-06-22T20:15:57.327Z"
    }
   },
   "outputs": [
    {
     "data": {
      "text/html": [
       "<div>\n",
       "<style scoped>\n",
       "    .dataframe tbody tr th:only-of-type {\n",
       "        vertical-align: middle;\n",
       "    }\n",
       "\n",
       "    .dataframe tbody tr th {\n",
       "        vertical-align: top;\n",
       "    }\n",
       "\n",
       "    .dataframe thead th {\n",
       "        text-align: right;\n",
       "    }\n",
       "</style>\n",
       "<table border=\"1\" class=\"dataframe\">\n",
       "  <thead>\n",
       "    <tr style=\"text-align: right;\">\n",
       "      <th></th>\n",
       "      <th>id</th>\n",
       "      <th>name</th>\n",
       "    </tr>\n",
       "  </thead>\n",
       "  <tbody>\n",
       "    <tr>\n",
       "      <th>303</th>\n",
       "      <td>thoth-station/adviser/1926</td>\n",
       "      <td>kind/feature</td>\n",
       "    </tr>\n",
       "    <tr>\n",
       "      <th>2944</th>\n",
       "      <td>thoth-station/package-extract/102</td>\n",
       "      <td>bot</td>\n",
       "    </tr>\n",
       "    <tr>\n",
       "      <th>4681</th>\n",
       "      <td>thoth-station/thoth-application/726</td>\n",
       "      <td>sig/pipelines</td>\n",
       "    </tr>\n",
       "    <tr>\n",
       "      <th>5410</th>\n",
       "      <td>thoth-station/user-api/1295</td>\n",
       "      <td>bot</td>\n",
       "    </tr>\n",
       "    <tr>\n",
       "      <th>3687</th>\n",
       "      <td>thoth-station/slo-reporter/159</td>\n",
       "      <td>bot</td>\n",
       "    </tr>\n",
       "  </tbody>\n",
       "</table>\n",
       "</div>"
      ],
      "text/plain": [
       "                                       id           name\n",
       "303            thoth-station/adviser/1926   kind/feature\n",
       "2944    thoth-station/package-extract/102            bot\n",
       "4681  thoth-station/thoth-application/726  sig/pipelines\n",
       "5410          thoth-station/user-api/1295            bot\n",
       "3687       thoth-station/slo-reporter/159            bot"
      ]
     },
     "execution_count": 10,
     "metadata": {},
     "output_type": "execute_result"
    }
   ],
   "source": [
    "# show labels dataframe\n",
    "labels_df.sample(5)"
   ]
  },
  {
   "cell_type": "code",
   "execution_count": null,
   "id": "97973a1d-a1d5-4500-a9c0-215cced61257",
   "metadata": {},
   "outputs": [],
   "source": [
    "# view most common labels\n",
    "\n",
    "labels_df.name.value_counts()[:20]"
   ]
  },
  {
   "cell_type": "code",
   "execution_count": null,
   "id": "b1fed60e-84b1-4014-ab26-2ab80dc1af07",
   "metadata": {},
   "outputs": [],
   "source": [
    "# view most common issue creators\n",
    "\n",
    "issues_df.created_by.value_counts()[:20]"
   ]
  },
  {
   "cell_type": "code",
   "execution_count": null,
   "id": "ca4bd5a2-f829-4416-a614-fb5d5adcddaa",
   "metadata": {},
   "outputs": [],
   "source": [
    "# view distribution of the number of issues in a label\n",
    "\n",
    "ax = sns.histplot(issues_df.num_labels, bins = int(max(issues_df.num_labels)))\n",
    "ax.set_xlim((0,6))"
   ]
  },
  {
   "cell_type": "code",
   "execution_count": 11,
   "id": "7be05b32",
   "metadata": {
    "ExecuteTime": {
     "end_time": "2021-06-22T20:15:45.491676Z",
     "start_time": "2021-06-22T20:15:57.328Z"
    }
   },
   "outputs": [],
   "source": [
    "# save dataframe\n",
    "SAVENAME = USER if USER else REPO.replace('/', '-_-')\n",
    "issues_df.to_csv(os.path.join('../../data',SAVENAME + '-issues.csv'), index = None)\n",
    "labels_df.to_csv(os.path.join('../../data',SAVENAME + '-labels.csv'), index = None)"
   ]
  }
 ],
 "metadata": {
  "kernelspec": {
   "display_name": "Python 3",
   "language": "python",
   "name": "python3"
  },
  "language_info": {
   "codemirror_mode": {
    "name": "ipython",
    "version": 3
   },
   "file_extension": ".py",
   "mimetype": "text/x-python",
   "name": "python",
   "nbconvert_exporter": "python",
   "pygments_lexer": "ipython3",
   "version": "3.8.3"
  },
  "toc": {
   "base_numbering": 1,
   "nav_menu": {},
   "number_sections": true,
   "sideBar": true,
   "skip_h1_title": false,
   "title_cell": "Table of Contents",
   "title_sidebar": "Contents",
   "toc_cell": false,
   "toc_position": {},
   "toc_section_display": true,
   "toc_window_display": false
  }
 },
 "nbformat": 4,
 "nbformat_minor": 5
}
