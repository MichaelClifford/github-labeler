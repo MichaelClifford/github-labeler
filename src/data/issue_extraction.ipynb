{
 "cells": [
  {
   "cell_type": "code",
   "execution_count": 22,
   "id": "a89e1402",
   "metadata": {
    "ExecuteTime": {
     "end_time": "2021-06-21T20:15:05.104198Z",
     "start_time": "2021-06-21T20:15:05.100371Z"
    }
   },
   "outputs": [],
   "source": [
    "import pandas as pd\n",
    "import numpy as np\n",
    "from tqdm.notebook import tqdm\n",
    "import collections\n",
    "import datetime\n",
    "import time\n",
    "from github import Github\n",
    "import os\n",
    "import itertools"
   ]
  },
  {
   "cell_type": "code",
   "execution_count": 23,
   "id": "249933c0",
   "metadata": {
    "ExecuteTime": {
     "end_time": "2021-06-21T20:15:07.191994Z",
     "start_time": "2021-06-21T20:15:07.188672Z"
    }
   },
   "outputs": [],
   "source": [
    "g = Github(os.getenv('GITHUB_ACCESS_TOKEN'))"
   ]
  },
  {
   "cell_type": "code",
   "execution_count": 24,
   "id": "6887a53c",
   "metadata": {
    "ExecuteTime": {
     "end_time": "2021-06-21T20:15:08.465175Z",
     "start_time": "2021-06-21T20:15:08.462443Z"
    }
   },
   "outputs": [],
   "source": [
    "# one of USER or REPO must be empty\n",
    "\n",
    "# username of person or organization\n",
    "USER = 'thoth-station'\n",
    "# OR  name of repo org/repo-name\n",
    "REPO = ''"
   ]
  },
  {
   "cell_type": "code",
   "execution_count": 25,
   "id": "c66d03d8",
   "metadata": {
    "ExecuteTime": {
     "end_time": "2021-06-21T20:15:14.672369Z",
     "start_time": "2021-06-21T20:15:09.513472Z"
    }
   },
   "outputs": [],
   "source": [
    "# add all repos to list, or create list of one\n",
    "repos_ = []\n",
    "\n",
    "if USER:\n",
    "    org = g.get_user(USER)\n",
    "    repos = org.get_repos()\n",
    "    for repo in repos:\n",
    "        repos_.append(repo)\n",
    "else:\n",
    "    to_add = g.get_repo(REPO)\n",
    "    repos_.append(to_add)"
   ]
  },
  {
   "cell_type": "code",
   "execution_count": 27,
   "id": "7e59e709",
   "metadata": {
    "ExecuteTime": {
     "end_time": "2021-06-21T20:15:32.191717Z",
     "start_time": "2021-06-21T20:15:32.178389Z"
    }
   },
   "outputs": [],
   "source": [
    "def get_issues_for_repo(repo):\n",
    "    \"\"\"\n",
    "    takes in a pygithub repo object and returns the list of pygithub issue objects\n",
    "    \"\"\"\n",
    "    issues = []\n",
    "    issues_left = True\n",
    "    max_date = datetime.datetime.min\n",
    "    while issues_left:\n",
    "        issues_left = False\n",
    "        try:\n",
    "            for issue in repo.get_issues(state = 'all', direction = 'asc', since = max_date):        \n",
    "                max_date = issue.created_at\n",
    "                try:\n",
    "                    if issue.pull_request is None:\n",
    "                        issues.append(issue)\n",
    "                except Exception as e:\n",
    "                    # occasionally very odd inexplicable issue with pygithub arises\n",
    "                    continue\n",
    "        except Exception as e:\n",
    "            print(len(issues), 'issues added for', {repo.full_name})\n",
    "            print('SLEEPING NOW')\n",
    "            time.sleep(60*61)\n",
    "            issues_left = True\n",
    "    return issues"
   ]
  },
  {
   "cell_type": "code",
   "execution_count": null,
   "id": "5fd5165f",
   "metadata": {
    "ExecuteTime": {
     "start_time": "2021-06-21T20:15:48.723Z"
    }
   },
   "outputs": [
    {
     "name": "stdout",
     "output_type": "stream",
     "text": [
      "getting issues for repos\n"
     ]
    },
    {
     "data": {
      "application/vnd.jupyter.widget-view+json": {
       "model_id": "df6e824f45684678964ac03bd0e2869c",
       "version_major": 2,
       "version_minor": 0
      },
      "text/plain": [
       "  0%|          | 0/157 [00:00<?, ?it/s]"
      ]
     },
     "metadata": {},
     "output_type": "display_data"
    }
   ],
   "source": [
    "# add in all issues\n",
    "all_issues = {}\n",
    "\n",
    "if USER:\n",
    "    print('getting issues for repos')\n",
    "    for repo in tqdm(repos_):\n",
    "        all_issues[repo.full_name] = get_issues_for_repo(repo)\n",
    "else:\n",
    "    repo = repos_[0]\n",
    "    all_issues[repo.full_name] = get_issues_for_repo(repo)\n",
    "    \n",
    "total_issues = sum([len(b) for a,b in all_issues.items()])\n",
    "print(total_issues, 'total issues')"
   ]
  },
  {
   "cell_type": "code",
   "execution_count": null,
   "id": "1c582777",
   "metadata": {},
   "outputs": [],
   "source": [
    "# create dataframe for issues\n",
    "data = []\n",
    "\n",
    "for repo, issues in all_issues.items():\n",
    "    for issue in issues:\n",
    "        data.append([repo, issue.title, issue.body, issue.labels, issue.created_at])\n",
    "    \n",
    "df = pd.DataFrame(data, columns = ['repo', 'title', 'body', 'labels', 'created_at'])\n",
    "df = df.loc[df.drop(['labels'] ,axis = 1).drop_duplicates().index]\n",
    "\n",
    "df.sample(10)"
   ]
  },
  {
   "cell_type": "code",
   "execution_count": null,
   "id": "9289fbc2",
   "metadata": {},
   "outputs": [],
   "source": [
    "# process labels (tab-separated names)\n",
    "list_issues = lambda x: '\\t'.join([issue.name for issue in x])\n",
    "df['labels'] = df['labels'].apply(lambda x: np.nan if not x else list_issues(x))"
   ]
  },
  {
   "cell_type": "code",
   "execution_count": null,
   "id": "06d7675c",
   "metadata": {},
   "outputs": [],
   "source": [
    "# show dataframe\n",
    "df.sample(10)"
   ]
  },
  {
   "cell_type": "code",
   "execution_count": null,
   "id": "554abc51",
   "metadata": {},
   "outputs": [],
   "source": [
    "# give short report \n",
    "labels_lists = [labels.split('\\t') for labels in df['labels'].dropna()]\n",
    "all_items = list(itertools.chain.from_iterable(labels_lists))\n",
    "counter = collections.Counter(all_items)\n",
    "print()\n",
    "print('Most common issues:')\n",
    "for label, N in counter.most_common(10):\n",
    "    print(f'{label}: {N}')"
   ]
  },
  {
   "cell_type": "code",
   "execution_count": null,
   "id": "7be05b32",
   "metadata": {},
   "outputs": [],
   "source": [
    "# save dataframe\n",
    "SAVENAME = USER if USER else REPO.replace('/', '-')\n",
    "SAVENAME += '.csv'\n",
    "df.to_csv(os.path.join('../data',SAVENAME), index = None)\n"
   ]
  }
 ],
 "metadata": {
  "kernelspec": {
   "display_name": "Python 3",
   "language": "python",
   "name": "python3"
  },
  "language_info": {
   "codemirror_mode": {
    "name": "ipython",
    "version": 3
   },
   "file_extension": ".py",
   "mimetype": "text/x-python",
   "name": "python",
   "nbconvert_exporter": "python",
   "pygments_lexer": "ipython3",
   "version": "3.8.3"
  },
  "toc": {
   "base_numbering": 1,
   "nav_menu": {},
   "number_sections": true,
   "sideBar": true,
   "skip_h1_title": false,
   "title_cell": "Table of Contents",
   "title_sidebar": "Contents",
   "toc_cell": false,
   "toc_position": {},
   "toc_section_display": true,
   "toc_window_display": false
  }
 },
 "nbformat": 4,
 "nbformat_minor": 5
}
